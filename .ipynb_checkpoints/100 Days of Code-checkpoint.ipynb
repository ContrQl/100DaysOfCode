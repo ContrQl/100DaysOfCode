{
 "cells": [
  {
   "cell_type": "markdown",
   "id": "50581ed8-d4cb-4341-a020-e2cd7203a75a",
   "metadata": {},
   "source": [
    "### <b>freewritten preamble</b>\n",
    "python is a step up from C+ in terms of convenience, dropping syntax such as semicolons, and uses much more intuitive wording. it does away with alot of things that C+ had to deal with, like dynamic allocation i believe, so i dont have to free up memory in python like i do in C+. although some languages matlab brings the semicolon back to suppress output so it really depends on usage. python is great for personal projects but statisticians still prefer R, this might be due to the packages available specifically for R. this course would probably be more of a cross-generalisation effort since the previous course by CS50 made me somewhat used to the C+ syntax so hopefully by the end syntax will take a back seat and i can think like a programmer"
   ]
  },
  {
   "cell_type": "markdown",
   "id": "94f52550-6b84-42ae-bffc-51f031ef22f1",
   "metadata": {},
   "source": [
    "### <b>basics</b>\n",
    "printing something: simple in python, probably will be used most for keeping track of processes and in debugging to display hidden outputs. whatever is put in double quotes are not code but strings i.e. arbitrary inputs. how to take inputs from the user, cast them into variables, take its length, and swapping contents of variables."
   ]
  },
  {
   "cell_type": "code",
   "execution_count": 22,
   "id": "453d2d1b-69e6-4832-b134-1f039f4d3274",
   "metadata": {},
   "outputs": [
    {
     "name": "stdout",
     "output_type": "stream",
     "text": [
      "Hello World!\n",
      "Hello World!\n",
      "Hello World!\n",
      "Hello Angela\n"
     ]
    },
    {
     "name": "stdin",
     "output_type": "stream",
     "text": [
      "What is your name? levi\n"
     ]
    },
    {
     "name": "stdout",
     "output_type": "stream",
     "text": [
      "Hello levi!\n"
     ]
    },
    {
     "name": "stdin",
     "output_type": "stream",
     "text": [
      "What is your name? levi\n"
     ]
    }
   ],
   "source": [
    "print(\"Hello World!\")\n",
    "print(\"Hello World!\\nHello World!\") #new line\n",
    "print(\"Hello\" + \" \" + \"Angela\") #concatenation\n",
    "\n",
    "print(\"Hello \" + input(\"What is your name?\") + \"!\") #user inputs\n",
    "name = input(\"What is your name?\") #variables; desecriptive; deconflicted; snake_case; case-sensitive\n",
    "len(name) #string length; and only strings\n",
    "len(name); #semicolon suppresses output\n",
    "\n",
    "glass1 = \"milk\"\n",
    "glass2 = \"juice\"\n",
    "glass_temp = glass1 #switching contents of variables\n",
    "glass1 = glass2\n",
    "glass2 = glass_temp\n",
    "\n",
    "print(\"Hello\"[0]) #indexing into strings by subscripting; starts at 0; supports negative indexing\n",
    "#NameError when accessing unassigned variables\n"
   ]
  },
  {
   "cell_type": "markdown",
   "id": "9c09b4a9-2c32-40fb-a22f-86e7d8ca5903",
   "metadata": {},
   "source": [
    "<b>Project 1: Band Name Generator</b><br>\n",
    "Create a greeting for your program.<br>\n",
    "Ask the user for the city that they grew up in and store it in a variable.<br>\n",
    "Ask the user for the name of a pet and store it in a variable.<br>\n",
    "Combine the name of their city and pet and show them their band name."
   ]
  },
  {
   "cell_type": "code",
   "execution_count": 23,
   "id": "e37332a9-bdef-4187-85e1-40cad6ce1315",
   "metadata": {},
   "outputs": [
    {
     "name": "stdout",
     "output_type": "stream",
     "text": [
      "Welcome to the Band Name Generator/n\n"
     ]
    },
    {
     "name": "stdin",
     "output_type": "stream",
     "text": [
      "What is the name of the city you grew up in? Singapore\n",
      "What's your pet name? levi\n"
     ]
    },
    {
     "name": "stdout",
     "output_type": "stream",
     "text": [
      "Your band name could be Singapore levi\n"
     ]
    }
   ],
   "source": [
    "print(\"Welcome to the Band Name Generator\")\n",
    "city = input(\"What is the name of the city you grew up in?\\n\")\n",
    "pet_name = input(\"What's your pet name?\\n\")\n",
    "print(\"Your band name could be \" + city + \" \" + pet_name)"
   ]
  },
  {
   "cell_type": "markdown",
   "id": "22aef656-a9b6-45dd-bc19-0b2de06f00e3",
   "metadata": {},
   "source": [
    "### <b>primitive data types</b>\n",
    "strings, integers, floats and type conversions. boolean operators. f-strings."
   ]
  },
  {
   "cell_type": "code",
   "execution_count": 43,
   "id": "2b8d8d3d-1ca8-4382-80a1-63df1997a9b6",
   "metadata": {},
   "outputs": [
    {
     "name": "stdout",
     "output_type": "stream",
     "text": [
      "532321214\n",
      "579\n",
      "4\n",
      "6\n",
      "1.6666666666666667\n",
      "1\n",
      "4\n",
      "3\n",
      "-3\n",
      "3.14\n",
      "-2\n",
      "<class 'str'>\n",
      "12345.0\n",
      "88\n",
      "False\n",
      "Your score is = 0.75, your height is = 1.8. You are winning is True\n"
     ]
    }
   ],
   "source": [
    "jumble_string = \"abcde\" #data type is automatically assigned in python\n",
    "\n",
    "jumble_integer = 12345 #integer; TypeError if len(integer)\n",
    "common_mistake = \"12345\" #reminder that quotes make anything string\n",
    "print(532_321_214) #underscores for readability are ignored\n",
    "#PEMDAS\n",
    "print(123 + 456) #simple calculations\n",
    "print(7 - 3)\n",
    "print(3 * 2)\n",
    "print(5 / 3) #fractions with implicit typecasting to a float\n",
    "print(5 // 3) #truncates decimal places\n",
    "print(2 ** 2) #exponent;\n",
    "\n",
    "print(int(3.14159)) #flooring a number\n",
    "print(round(-3.1415)) #round up to nearest integer\n",
    "print(round(3.14159, 2)) #round up, to 2 d.p.\n",
    "print(round(-2.5)) #banker's rounding, go to nearest even integer; math.ceil() for strictly round up\n",
    "\n",
    "score = 0\n",
    "score += 2 #shorthand for score = score + 1 (assignment operator); for tracking purposes\n",
    "score -= 1\n",
    "score *= 3\n",
    "score /= 4\n",
    "\n",
    "jumble_float = 88.12 #float (floating point number; number with a \"floating point\"\n",
    "\n",
    "jumble_boolean = False #boolean operators; case-sensitive\n",
    "\n",
    "print(type(jumbstring)) #reveals data type\n",
    "\n",
    "print(float(jumbinteger)) #type conversion\n",
    "print(int(jumbfloat)) #type conversion; ValueError if converting string to a number\n",
    "print(str(jumboolean)) #type conversion\n",
    "\n",
    "height = 1.8\n",
    "is_winning = True\n",
    "print(f\"Your score is = {score}, your height is = {height}. You are winning is {is_winning}\") #f-strings mix data types\n"
   ]
  },
  {
   "cell_type": "markdown",
   "id": "4c1380bd-3d25-4f0b-a8fd-e8ec64999b50",
   "metadata": {},
   "source": [
    "<b>Project 2: Tip Calculator</b><br>\n",
    "We're going to build a tip calculator.<br>\n",
    "If the bill was $150.00, split between 5 people, with 12% tip.<br>\n",
    "Each person should pay:<br>\n",
    "(150.00 / 5) * 1.12 = 33.6<br>\n",
    "After formatting the result to 2 decimal places = 33.60"
   ]
  },
  {
   "cell_type": "code",
   "execution_count": 54,
   "id": "17aab385-9f34-4040-810d-8e00d771227b",
   "metadata": {},
   "outputs": [
    {
     "name": "stdout",
     "output_type": "stream",
     "text": [
      "Welcome to the tip calculator!\n"
     ]
    },
    {
     "name": "stdin",
     "output_type": "stream",
     "text": [
      "What was the total bill?\n",
      "$ 150\n",
      "What percentage tip would you like to give? 10% 12% 15%\n",
      " 12\n",
      "How many people to split the bill?\n",
      " 5\n"
     ]
    },
    {
     "name": "stdout",
     "output_type": "stream",
     "text": [
      "Each person should pay: $33.60\n"
     ]
    }
   ],
   "source": [
    "print(\"Welcome to the tip calculator!\")\n",
    "bill = float(input(\"What was the total bill?\\n$\"))\n",
    "tip = int(input(\"What percentage tip would you like to give? 10% 12% 15%\\n\"))/100\n",
    "people = int(input(\"How many people to split the bill?\\n\"))\n",
    "contribution = round(((bill*tip + bill)/people), 2)\n",
    "print(f\"Each person should pay: ${contribution:.2f}\")\n"
   ]
  },
  {
   "cell_type": "markdown",
   "id": "a36e006c-e2bf-4205-9397-a33010308483",
   "metadata": {},
   "source": [
    "### <b>control flow using logical operators</b>\n",
    "conditional checks, comparator operators, modulo, logical operators, code blocks, nesting and scope. if things get complicated, especially with multiple nesting, then it would be useful to use a flowchart in draw.io visualisation of pseudocode"
   ]
  },
  {
   "cell_type": "code",
   "execution_count": 65,
   "id": "96891916-d620-4ff8-a8bf-236a5966ef20",
   "metadata": {},
   "outputs": [
    {
     "name": "stdin",
     "output_type": "stream",
     "text": [
      "What is your height in cm?  180\n"
     ]
    },
    {
     "name": "stdout",
     "output_type": "stream",
     "text": [
      "You can ride the rollercoaster\n"
     ]
    },
    {
     "name": "stdin",
     "output_type": "stream",
     "text": [
      "What is your age?  45\n"
     ]
    },
    {
     "name": "stdout",
     "output_type": "stream",
     "text": [
      "Everything is going to be ok. Have a free ride on us!\n"
     ]
    },
    {
     "name": "stdin",
     "output_type": "stream",
     "text": [
      "Do you want to have a photo taken? Type y for Yes or n for No y\n"
     ]
    },
    {
     "name": "stdout",
     "output_type": "stream",
     "text": [
      "Your final bill is 21\n",
      "Odd\n"
     ]
    }
   ],
   "source": [
    "height = int(input(\"What is your height in cm? \"))\n",
    "\n",
    "if height >= 120: #if statements, using comparator operators (>; <; >=; <=; ==, !=)\n",
    "    print(\"You can ride the rollercoaster\") #indentation indicate parent/child relationship\n",
    "    age = int(input(\"What is your age? \")) #IndentationError if misaligned\n",
    "    if age < 12: #nested if statements\n",
    "        bill = 5\n",
    "        print(\"Child tickets are $5.\")\n",
    "    elif age < 18: #as many elifs as needed\n",
    "        bill = 7\n",
    "        print(\"Youth tickets are $7.\")\n",
    "    elif 45 <= age <= 55: #logical operators: exclusive and; inclusive or; reversive not\n",
    "        print(\"Everything is going to be ok. Have a free ride on us!\")\n",
    "    else:\n",
    "        bill = 12\n",
    "        print(\"Adult tickets are $12.\")\n",
    "\n",
    "    wants_photo = input(\"Do you want to have a photo taken? Type y for Yes or n for No\")\n",
    "    if wants_photo == \"y\": #successive if statements\n",
    "        bill += 3\n",
    "    print(f\"Your final bill is {bill}\")\n",
    "else:\n",
    "    print(\"Sorry you have to grow taller before you can ride\") #useful to draw a flow chart in draw.io\n",
    "\n",
    "number_to_check = 12345\n",
    "if number_to_check % 2 == 0: #modulo displays the remainder; useful for checking evenness\n",
    "    print(\"Even\")\n",
    "else:\n",
    "    print(\"Odd\")\n"
   ]
  },
  {
   "cell_type": "markdown",
   "id": "cbd19b90-bf9c-45ce-99a8-749b0ca9493f",
   "metadata": {},
   "source": [
    "<b>Project 3: Treasure Island</b><br>\n",
    "Your goal today is to build a \"Chose your own adventure game\". Using what you have learnt in the lessons today you will be building a very simple version of this type of text game. Flow chart [here](https://app.diagrams.net/?lightbox=1&highlight=0000ff&edit=_blank&layers=1&nav=1&title=Treasure%20Island%20Conditional.drawio#Uhttps%3A%2F%2Fdrive.google.com%2Fuc%3Fid%3D1oDe4ehjWZipYRsVfeAx2HyB7LCQ8_Fvi%26export%3Ddownload#%7B%22pageId%22%3A%22C5RBs43oDa-KdzZeNtuy%22%7D)"
   ]
  },
  {
   "cell_type": "code",
   "execution_count": 77,
   "id": "88b72ed3-862e-4eea-a81e-7afaee5be497",
   "metadata": {},
   "outputs": [
    {
     "name": "stdout",
     "output_type": "stream",
     "text": [
      "\n",
      "*******************************************************************************\n",
      "          |                   |                  |                     |\n",
      " _________|________________.=\"\"_;=.______________|_____________________|_______\n",
      "|                   |  ,-\"_,=\"\"     `\"=.|                  |\n",
      "|___________________|__\"=._o`\"-._        `\"=.______________|___________________\n",
      "          |                `\"=._o`\"=._      _`\"=._                     |\n",
      " _________|_____________________:=._o \"=._.\"_.-=\"'\"=.__________________|_______\n",
      "|                   |    __.--\" , ; `\"=._o.\" ,-\"\"\"-._ \".   |\n",
      "|___________________|_._\"  ,. .` ` `` ,  `\"-._\"-._   \". '__|___________________\n",
      "          |           |o`\"=._` , \"` `; .\". ,  \"-._\"-._; ;              |\n",
      " _________|___________| ;`-.o`\"=._; .\" ` '`.\"\\` . \"-._ /_______________|_______\n",
      "|                   | |o;    `\"-.o`\"=._``  '` \" ,__.--o;   |\n",
      "|___________________|_| ;     (#) `-.o `\"=.`_.--\"_o.-; ;___|___________________\n",
      "____/______/______/___|o;._    \"      `\".o|o_.--\"    ;o;____/______/______/____\n",
      "/______/______/______/_\"=._o--._        ; | ;        ; ;/______/______/______/_\n",
      "____/______/______/______/__\"=._o--._   ;o|o;     _._;o;____/______/______/____\n",
      "/______/______/______/______/____\"=._o._; | ;_.--\"o.--\"_/______/______/______/_\n",
      "____/______/______/______/______/_____\"=.o|o_.--\"\"___/______/______/______/____\n",
      "/______/______/______/______/______/______/______/______/______/______/________\n",
      "*******************************************************************************\n",
      "\n",
      "Welcome to Treasure Island. Your mission is the find the treasure.\n"
     ]
    },
    {
     "name": "stdin",
     "output_type": "stream",
     "text": [
      "You're at a cross road.\"Where do you want to go? Type \"left\" or \"right\".\n",
      " left\n"
     ]
    },
    {
     "name": "stdout",
     "output_type": "stream",
     "text": [
      "You've come to a lake. There is an island in the middle of the lake.\n"
     ]
    },
    {
     "name": "stdin",
     "output_type": "stream",
     "text": [
      "Type \"wait\" to wait for a boat. Type \"swim\" to swim across.\n",
      " wait\n"
     ]
    },
    {
     "name": "stdout",
     "output_type": "stream",
     "text": [
      "You arrive at the island unharmed. There is a house with 3 doors. One red, one yellow and one blue.\n"
     ]
    },
    {
     "name": "stdin",
     "output_type": "stream",
     "text": [
      "Which colour do you choose?\n",
      " yellow\n"
     ]
    },
    {
     "name": "stdout",
     "output_type": "stream",
     "text": [
      "You found the treasure. You won the game!\n"
     ]
    }
   ],
   "source": [
    "print('''\n",
    "*******************************************************************************\n",
    "          |                   |                  |                     |\n",
    " _________|________________.=\"\"_;=.______________|_____________________|_______\n",
    "|                   |  ,-\"_,=\"\"     `\"=.|                  |\n",
    "|___________________|__\"=._o`\"-._        `\"=.______________|___________________\n",
    "          |                `\"=._o`\"=._      _`\"=._                     |\n",
    " _________|_____________________:=._o \"=._.\"_.-=\"'\"=.__________________|_______\n",
    "|                   |    __.--\" , ; `\"=._o.\" ,-\"\"\"-._ \".   |\n",
    "|___________________|_._\"  ,. .` ` `` ,  `\"-._\"-._   \". '__|___________________\n",
    "          |           |o`\"=._` , \"` `; .\". ,  \"-._\"-._; ;              |\n",
    " _________|___________| ;`-.o`\"=._; .\" ` '`.\"\\` . \"-._ /_______________|_______\n",
    "|                   | |o;    `\"-.o`\"=._``  '` \" ,__.--o;   |\n",
    "|___________________|_| ;     (#) `-.o `\"=.`_.--\"_o.-; ;___|___________________\n",
    "____/______/______/___|o;._    \"      `\".o|o_.--\"    ;o;____/______/______/____\n",
    "/______/______/______/_\"=._o--._        ; | ;        ; ;/______/______/______/_\n",
    "____/______/______/______/__\"=._o--._   ;o|o;     _._;o;____/______/______/____\n",
    "/______/______/______/______/____\"=._o._; | ;_.--\"o.--\"_/______/______/______/_\n",
    "____/______/______/______/______/_____\"=.o|o_.--\"\"___/______/______/______/____\n",
    "/______/______/______/______/______/______/______/______/______/______/________\n",
    "*******************************************************************************\n",
    "''') #from ascii.co.uk\n",
    "print(\"Welcome to Treasure Island. Your mission is the find the treasure.\")\n",
    "\n",
    "cross_road_direction = input('You\\'re at a cross road.'\n",
    "                             'Where do you want to go? Type \"left\" or \"right\".\\n').lower()\n",
    "#using single quotes here to allow double quotes in string, and escaping single quote using backslash within string\n",
    "\n",
    "if cross_road_direction == \"left\":\n",
    "    print(\"You\\'ve come to a lake. There is an island in the middle of the lake.\")\n",
    "\n",
    "    lake_decision = input('Type \"wait\" to wait for a boat. '\n",
    "                          'Type \"swim\" to swim across.\\n').lower() #new line for readability\n",
    "    \n",
    "    if lake_decision == \"wait\" or lake_decision == \"wait\":\n",
    "        print(\"You arrive at the island unharmed. \"\n",
    "              \"There is a house with 3 doors. One red, one yellow and one blue.\")\n",
    "\n",
    "        door_choice = input(\"Which colour do you choose?\\n\").lower()\n",
    "        \n",
    "        if door_choice == \"red\":\n",
    "            #can also say if door_choice in [\"Red\", \"red\", \"R\", 'r\"]:\n",
    "            print(\"You were burned by fire. Game over!\")\n",
    "        elif door_choice == \"blue\":\n",
    "            print(\"You were eaten by beasts. Game over!\")\n",
    "        else:\n",
    "            print(\"You found the treasure. You won the game!\")\n",
    "    else:\n",
    "        print(\"You were attacked by a trout. Game over!\")\n",
    "else:\n",
    "    print(\"You fell into a hole. Game over!\")\n",
    "\n",
    "#a better way would be to check for the terminating scenario first, so processing is sometimes faster (in games where termianting scenarios are chosen)\n",
    "#even better to add a terminating scenario for invalid responses first"
   ]
  },
  {
   "cell_type": "markdown",
   "id": "577693e0-48e3-4315-a497-1d3bf087cb87",
   "metadata": {},
   "source": [
    "### <b>randomisation and python lists<b>\n",
    "the random module generates unpredictability in scientific research and in games. however, deterministic machines can only achieve pseudorandomness. python uses the [mersenne twister to generate \"randomness\"](https://www.khanacademy.org/computing/computer-science/cryptography/crypt/v/random-vs-pseudorandom-number-generator). it's abstracted away in python's [random module](https://docs.python.org/3/library/random.html). modules break up complex projects for readability and delegation during development."
   ]
  },
  {
   "cell_type": "code",
   "execution_count": 106,
   "id": "09ea7d65-f8ee-4310-a82c-d5c708636363",
   "metadata": {},
   "outputs": [
    {
     "name": "stdout",
     "output_type": "stream",
     "text": [
      "6\n",
      "0.005685737783534761\n",
      "8.370561986674245\n",
      "3.22897707417823\n",
      "Tails\n",
      "Orange\n",
      "['Strawberries', 'Orange', 'Passionfruits', 'Watermelon']\n",
      "Alice\n",
      "Charlie\n",
      "5\n",
      "Spinach\n",
      "Spinach\n"
     ]
    }
   ],
   "source": [
    "import random #module saved in another .py file; use \".\" to access attributes/objects in module\n",
    "\n",
    "random_integer = random.randint(1, 10) #random integer within a range\n",
    "print(random_integer)\n",
    "\n",
    "random_number_0_to_1 = random.random() #a floating point number between 0 and 1\n",
    "print(random_number_0_to_1)\n",
    "\n",
    "random_number_0_to_10 = random.random() * 10 #10 modifier places it between 0-10\n",
    "print(random_number_0_to_10)\n",
    "\n",
    "random_float = random.uniform(1, 10) #may exclude 10 due to floating-point precision\n",
    "print(random_float)\n",
    "\n",
    "coin_flip = random.randint(0, 1)\n",
    "if coin_flip == 0:\n",
    "    print(\"Tails\") #associating outcomes with random probabilities; complexity warfare/obfuscation\n",
    "else:\n",
    "    print(\"Heads\")\n",
    "\n",
    "#you can also use seeds for reproducibility\n",
    "\n",
    "fruit = [\"Apple\", \"Oranqe\", \"Cherry\"] #use a list to group similar items\n",
    "(fruits[1]) = \"Orange\" #[] subscripts into the list\n",
    "print(fruits[1])\n",
    "\n",
    "fruits.append(\"Watermelon\") #add item to list; also .extend for multiple new items; insert; remove\n",
    "print(fruits)\n",
    "\n",
    "#take advantage that order is preserved; supports negative indexing\n",
    "\n",
    "friends = [\"Alice\", \"Bob\", \"Charlie\", \"David\", \"Emanuel\"]\n",
    "print(friends[friend_index]) #or\n",
    "\n",
    "print(random.choice(friends)) #random item from specified list\n",
    "\n",
    "number_of_friends = len(friends) #len is always 1 more than the index of the last item\n",
    "\n",
    "print(number_of_friends) #IndexError if nonexistent position is specified\n",
    "\n",
    "dirty_dozen = [\"fruits\", \"vegetables\"]\n",
    "dirty_dozen[0] = [\"Strawberries\", \"Watermelons\", \"Passionfruits\"] #nested lists\n",
    "dirty_dozen[1] = [\"Kale\", \"Spinach\", \"Broccoli\"]#or\n",
    "print(dirty_dozen[1][1])\n",
    "\n",
    "fruits = [\"Strawberries\", \"Watermelons\", \"Passionfruits\"]\n",
    "vegetables = [\"Kale\", \"Spinach\", \"Broccoli\"]\n",
    "dirty_dozen = [fruits, vegetables]\n",
    "print(dirty_dozen[1][1])#or\n",
    "\n",
    "#dictionaries on the other hand, stores unordered collection of items as \"key\":value pairs\n",
    "#python 3.7 maintains insertion order but access still via key\n"
   ]
  },
  {
   "cell_type": "markdown",
   "id": "6fea19d4-4634-44d8-a7b9-f6af3ae44de9",
   "metadata": {},
   "source": [
    "<b>Project 4: Rock, Paper, Scissors</b><br>\n",
    "You are going to build a Rock, Paper, Scissors game. You will need to use what you have learnt about randomisation and Lists to achieve this."
   ]
  },
  {
   "cell_type": "code",
   "execution_count": 151,
   "id": "46ee3b7b-5c29-446d-b466-81f712b68d07",
   "metadata": {},
   "outputs": [
    {
     "name": "stdin",
     "output_type": "stream",
     "text": [
      "What do you choose? Type 0 for Rock, 1 for Paper, or 2 for Scissors. 1\n"
     ]
    },
    {
     "name": "stdout",
     "output_type": "stream",
     "text": [
      "Computer chose: \n",
      "\n",
      "    _______\n",
      "---'   ____)____\n",
      "          ______)\n",
      "       __________)\n",
      "      (____)\n",
      "---.__(___)\n",
      "\n",
      "You chose: \n",
      "\n",
      "    _______\n",
      "---'   ____)____\n",
      "          ______)\n",
      "          _______)\n",
      "         _______)\n",
      "---.__________)\n",
      "\n",
      "You lose!\n"
     ]
    }
   ],
   "source": [
    "import random\n",
    "\n",
    "rock = '''\n",
    "    _______\n",
    "---'   ____)\n",
    "      (_____)\n",
    "      (_____)\n",
    "      (____)\n",
    "---.__(___)\n",
    "'''\n",
    "\n",
    "paper = '''\n",
    "    _______\n",
    "---'   ____)____\n",
    "          ______)\n",
    "          _______)\n",
    "         _______)\n",
    "---.__________)\n",
    "'''\n",
    "\n",
    "scissors = '''\n",
    "    _______\n",
    "---'   ____)____\n",
    "          ______)\n",
    "       __________)\n",
    "      (____)\n",
    "---.__(___)\n",
    "'''\n",
    "\n",
    "options = [rock, paper, scissors]\n",
    "\n",
    "player_choice = options[int(input(\"What do you choose? Type 0 for Rock, 1 for Paper, or 2 for Scissors.\"))]\n",
    "computer_choice = random.choice(options)\n",
    "\n",
    "if player_choice == computer_choice:\n",
    "    print(f'Computer chose: \\n{computer_choice}\\nYou chose: \\n{player_choice}\\nIt\\'s a draw!')\n",
    "elif (\n",
    "    (player_choice == rock and computer_choice == paper) or\n",
    "    (player_choice == paper and computer_choice == scissors) or\n",
    "    (player_choice == scissors and computer_choice == rock)\n",
    "): #can also use \\ for line continuation\n",
    "    print(f'Computer chose: \\n{computer_choice}\\nYou chose: \\n{player_choice}\\nYou lose!')\n",
    "else:\n",
    "    print(f'Computer chose: \\n{computer_choice}\\nYou chose: \\n{player_choice}\\nYou won!')\n",
    "\n",
    "#defensive programming can include a catch-all to re-prompt input if anything other than 0/1/2\n"
   ]
  },
  {
   "cell_type": "markdown",
   "id": "83957329-5e78-42c6-b5b5-4a7f4f2c3cf7",
   "metadata": {},
   "source": [
    "### <b>python loops</b>\n",
    "using for loops for iterating through a list or a range, performing actions to each item."
   ]
  },
  {
   "cell_type": "code",
   "execution_count": 166,
   "id": "24c8c8e9-5b93-4347-9ddb-07e3384d8c32",
   "metadata": {},
   "outputs": [
    {
     "name": "stdout",
     "output_type": "stream",
     "text": [
      "Apple pie\n",
      "Peach pie\n",
      "Pear pie\n",
      "747\n",
      "140\n",
      "1\n",
      "4\n",
      "7\n",
      "10\n"
     ]
    }
   ],
   "source": [
    "fruits = [\"Apple\", \"Peach\", \"Pear\"]\n",
    "for fruit in fruits: #the first \"fruit\" is the arbitrary variable name assigned to each item\n",
    "    print(fruit + \" pie\") #makes intuitive sense for the variable name to be singular form of list name\n",
    "\n",
    "student_scores = [123, 140, 133, 120, 111, 120]\n",
    "\n",
    "total_exam_score = 0\n",
    "\n",
    "for score in student_scores:\n",
    "    total_exam_score += score #is just the primitive form of the sum function\n",
    "\n",
    "print(total_exam_score)\n",
    "\n",
    "total_exam_score = sum(student_scores) #abstracts away the above\n",
    "\n",
    "max_score = 0\n",
    "\n",
    "for score in student_scores:\n",
    "    if score > max_score:\n",
    "        max_score = score #is just the primitive form of the max function\n",
    "        \n",
    "print(max_score)\n",
    "\n",
    "max_score = max(student_scores) #abstracts away the above\n",
    "\n",
    "for number in range(1, 11, 3): #range function; covers lower but not upper bound; 3rd argument specifies step\n",
    "    print(number)\n",
    "\n",
    "#FizzBuzz game, where numbers divisible by 3 are replaced with Fizz, numbers divisible by 5 are replaced with Buzz, numbers divisible by both are replaced with FizzBuzz\n",
    "\"\"\"\n",
    "for number in range(1, 101):\n",
    "    if number%3 == 0 and number%5 != 0:\n",
    "        print(\"Fizz\")\n",
    "    elif number%5 == 0 and number%3 != 0:\n",
    "        print(\"Buzz\")\n",
    "    elif number%3 == 0 and number%5 == 0:\n",
    "        print(\"FizzBuzz\")\n",
    "    else:\n",
    "        print(f\"{number}\")\n",
    "\"\"\";\n"
   ]
  },
  {
   "cell_type": "markdown",
   "id": "fc8a2aaa-3e35-4f25-a6de-e5368bcd2ee6",
   "metadata": {},
   "source": [
    "<b>Project 5: PyPassword Generator</b><br>\n",
    "The program will ask:\n",
    "\n",
    "How many letters would you like in your password?<br>\n",
    "How many symbols would you like?<br>\n",
    "How many numbers would you like?<br>\n",
    "The objective is to take the inputs from the user to these questions and then generate a random password. Use your knowledge about Python lists and loops to complete the challenge."
   ]
  },
  {
   "cell_type": "code",
   "execution_count": 186,
   "id": "55f78d6f-1152-4698-83de-9e4ec3b39be5",
   "metadata": {},
   "outputs": [
    {
     "name": "stdout",
     "output_type": "stream",
     "text": [
      "Welcome to the PyPassword Generator!\n"
     ]
    },
    {
     "name": "stdin",
     "output_type": "stream",
     "text": [
      "How many letters would you like in your password?\n",
      " 4\n",
      "How many symbols would you like?\n",
      " 4\n",
      "How many numbers would you like?\n",
      " 4\n"
     ]
    },
    {
     "name": "stdout",
     "output_type": "stream",
     "text": [
      "Your password is c9&&#$9Jy6B6\n"
     ]
    }
   ],
   "source": [
    "import random\n",
    "\n",
    "letters = ['a', 'b', 'c', 'd', 'e', 'f', 'g', 'h', 'i', 'j', 'k', 'l', 'm', 'n', 'o', 'p', 'q', 'r', 's', 't', 'u', 'v', 'w', 'x', 'y', 'z', 'A', 'B', 'C', 'D', 'E', 'F', 'G', 'H', 'I', 'J', 'K', 'L', 'M', 'N', 'O', 'P', 'Q', 'R', 'S', 'T', 'U', 'V', 'W', 'X', 'Y', 'Z']\n",
    "numbers = ['0', '1', '2', '3', '4', '5', '6', '7', '8', '9']\n",
    "symbols = ['!', '#', '$', '%', '&', '(', ')', '*', '+']\n",
    "\n",
    "print(\"Welcome to the PyPassword Generator!\")\n",
    "nr_letters = int(input(\"How many letters would you like in your password?\\n\"))\n",
    "nr_symbols = int(input(\"How many symbols would you like?\\n\"))\n",
    "nr_numbers = int(input(\"How many numbers would you like?\\n\"))\n",
    "\n",
    "password_unsorted = []\n",
    "\n",
    "for letter in range(0, nr_letters): #cleaner than (1, nr_letters + 1)\n",
    "    letter = random.choice(letters)\n",
    "    password_unsorted.append(letter) #or password_unsorted.append(random.choice(letters))\n",
    "for symbol in range(0, nr_symbols):\n",
    "    symbol = random.choice(symbols)\n",
    "    password_unsorted.append(symbol)\n",
    "for number in range(0, nr_numbers):\n",
    "    number = random.choice(numbers)\n",
    "    password_unsorted.append(number)\n",
    "\n",
    "password_random_sort = []\n",
    "\n",
    "for character in range(1, len(password_unsorted) + 1):\n",
    "    character = random.choice(password_unsorted)\n",
    "    password_unsorted.remove(character) #picked without replacement\n",
    "    password_random_sort.append(character)\n",
    "\n",
    "#can also use random.shuffle(password_unsorted)\n",
    "\n",
    "password = \"\".join(password_random_sort) #converts joined list to string\n",
    "print(f\"Your password is {password}\")\n",
    "    "
   ]
  },
  {
   "cell_type": "markdown",
   "id": "e70e1cfe-821d-443b-a117-a5c6921c38c3",
   "metadata": {},
   "source": [
    "### <b>python functions & karel</b>\n",
    "code blocks, functions and while loops"
   ]
  },
  {
   "cell_type": "code",
   "execution_count": null,
   "id": "3fc9a60c-6521-44fb-acc8-93ea3ab6dbcb",
   "metadata": {},
   "outputs": [],
   "source": [
    "functions\n"
   ]
  },
  {
   "cell_type": "markdown",
   "id": "a0f247cd-4877-403b-901b-35381d87551d",
   "metadata": {},
   "source": [
    "### <b>hangman</b>"
   ]
  },
  {
   "cell_type": "markdown",
   "id": "755f92a8-3d58-466a-9e38-24a3b6a4a5c9",
   "metadata": {},
   "source": [
    "### <b>function parameters  & caesar cipher</b>"
   ]
  },
  {
   "cell_type": "markdown",
   "id": "1faba0d2-68ef-44fc-9a03-1a62f91ee5e8",
   "metadata": {},
   "source": [
    "### <b>dictionaries, nesting and the secret auction</b>"
   ]
  },
  {
   "cell_type": "markdown",
   "id": "0fe270eb-98ed-4d2e-ae65-67b3407a3717",
   "metadata": {},
   "source": [
    "### <b>functions with ouputs</b>"
   ]
  },
  {
   "cell_type": "markdown",
   "id": "674b69b8-e89d-4b76-9883-0105d1f782b4",
   "metadata": {},
   "source": [
    "### <b>the beginner blackjack capstone project</b>"
   ]
  },
  {
   "cell_type": "markdown",
   "id": "2a4844c2-4139-4af7-b7f8-98671be6af80",
   "metadata": {},
   "source": [
    "### <b>scope & number guessing game</b>"
   ]
  },
  {
   "cell_type": "markdown",
   "id": "7eaf12d1-d5ee-4d17-a969-830a64d45e80",
   "metadata": {},
   "source": [
    "### <b>how to find and fix errors in your code</b>"
   ]
  },
  {
   "cell_type": "markdown",
   "id": "eaec0715-b3bf-48a7-bd5f-0bf5eb5a3191",
   "metadata": {},
   "source": [
    "### <b>higher lower game project</b>"
   ]
  },
  {
   "cell_type": "raw",
   "id": "d3cde5c1-678d-4968-b0ce-7a7866f60344",
   "metadata": {},
   "source": [
    "intermediate starts here. maybe new notebook?"
   ]
  },
  {
   "cell_type": "raw",
   "id": "0beb5c0d-2373-4cb4-8d69-d4fd574845e4",
   "metadata": {},
   "source": [
    "web foundation starts here"
   ]
  },
  {
   "cell_type": "raw",
   "id": "033bcaa5-f7bf-4439-852c-8cdeeab56fb8",
   "metadata": {},
   "source": [
    "intermediate+ starts here"
   ]
  },
  {
   "cell_type": "raw",
   "id": "132423b2-87b9-4e59-a808-14cc27319772",
   "metadata": {},
   "source": [
    "advanced starts here"
   ]
  },
  {
   "cell_type": "raw",
   "id": "40af7bd2-ad9a-4a5f-ac32-80c8fecf883c",
   "metadata": {},
   "source": [
    "professional starts here"
   ]
  },
  {
   "cell_type": "code",
   "execution_count": null,
   "id": "691a56e9-f833-4f12-8f4a-f58c55d0074f",
   "metadata": {},
   "outputs": [],
   "source": []
  },
  {
   "cell_type": "code",
   "execution_count": null,
   "id": "e1845979-5e28-404f-b6e9-55c478982639",
   "metadata": {},
   "outputs": [],
   "source": []
  },
  {
   "cell_type": "code",
   "execution_count": null,
   "id": "2094c264-b3d4-42a4-b186-e36cadef70ac",
   "metadata": {},
   "outputs": [],
   "source": []
  }
 ],
 "metadata": {
  "kernelspec": {
   "display_name": "Python 3 (ipykernel)",
   "language": "python",
   "name": "python3"
  },
  "language_info": {
   "codemirror_mode": {
    "name": "ipython",
    "version": 3
   },
   "file_extension": ".py",
   "mimetype": "text/x-python",
   "name": "python",
   "nbconvert_exporter": "python",
   "pygments_lexer": "ipython3",
   "version": "3.10.6"
  }
 },
 "nbformat": 4,
 "nbformat_minor": 5
}
