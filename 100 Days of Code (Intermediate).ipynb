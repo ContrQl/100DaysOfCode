{
 "cells": [
  {
   "cell_type": "markdown",
   "id": "0cf3b99c-085e-40f9-a80a-a6a4dfbf4976",
   "metadata": {},
   "source": [
    "### <b>intermediate starts here</b>\n",
    "multi-line editing: select lines using option+shift. command+R to run code. PEP8 recommends each line of code not be more than 120 characters."
   ]
  },
  {
   "cell_type": "markdown",
   "id": "91f09f62-dbeb-434a-9059-186c54510854",
   "metadata": {},
   "source": [
    "<b>Project 15: Coffee Machine Project</b><br>\n",
    "The goal is to build the program for a coffee machine.<br>\n",
    "Program requirements:<br>\n",
    "1. Prompt user by asking “What would you like? (espresso/latte/cappuccino):”.<br>\n",
    "a. Check the user’s input to decide what to do next.<br>\n",
    "b. The prompt should show every time action has completed, e.g. once the drink is\n",
    "dispensed. The prompt should show again to serve the next customer.\n",
    "2. Turn off the Coffee Machine by entering “ off ” to the prompt.<br>\n",
    "a. For maintainers of the coffee machine, they can use “off” as the secret word to turn off\n",
    "the machine. Your code should end execution when this happens.\n",
    "3. Print report.<br>\n",
    "a. When the user enters “report” to the prompt, a report should be generated that shows\n",
    "the current resource values. e.g.<br>\n",
    "Water: 100ml<br>\n",
    "Milk: 50ml<br>\n",
    "Coffee: 76g<br>\n",
    "Money: \\\\$2.5<br>\n",
    "4. Check resources sufficient?<br>\n",
    "a. When the user chooses a drink, the program should check if there are enough\n",
    "resources to make that drink.<br>\n",
    "b. E.g. if Latte requires 200ml water but there is only 100ml left in the machine. It should\n",
    "not continue to make the drink but print: “Sorry there is not enough water.”<br>\n",
    "c. The same should happen if another resource is depleted, e.g. milk or coffee.<br>\n",
    "5. Process coins.<br>\n",
    "a. If there are sufficient resources to make the drink selected, then the program should\n",
    "prompt the user to insert coins.<br>\n",
    "b. Remember that quarters = \\\\$0.25, dimes = \\\\$0.10, nickles = \\\\$0.05, pennies = \\\\$0.01<br>\n",
    "c. Calculate the monetary value of the coins inserted. E.g. 1 quarter, 2 dimes, 1 nickel, 2\n",
    "pennies = 0.25 + 0.1 x 2 + 0.05 + 0.01 x 2 = \\\\$0.52<br>\n",
    "6. Check transaction successful?<br>\n",
    "a. Check that the user has inserted enough money to purchase the drink they selected.\n",
    "E.g Latte cost \\\\$2.50, but they only inserted \\\\$0.52 then after counting the coins the\n",
    "program should say “Sorry that's not enough money. Money refunded.”.<br>\n",
    "b. But if the user has inserted enough money, then the cost of the drink gets added to the\n",
    "machine as the profit and this will be reflected the next time “report” is triggered. E.g.<br>\n",
    "Water: 100ml<br>\n",
    "Milk: 50ml<br>\n",
    "Coffee: 76g<br>\n",
    "Money: \\\\$2.5<br>\n",
    "c. If the user has inserted too much money, the machine should offer change. E.g. “Here is \\\\$2.45 dollars in change.” The change should be rounded to 2 decimal places<br>\n",
    "7. Make Coffee.<br>\n",
    "a. If the transaction is successful and there are enough resources to make the drink the\n",
    "user selected, then the ingredients to make the drink should be deducted from the\n",
    "coffee machine resources. E.g. <br>\n",
    "Report before purchasing latte:<br>\n",
    "Water: 300ml<br>\n",
    "Milk: 200ml<br>\n",
    "Coffee: 100g<br>\n",
    "Money: $0<br>\n",
    "Report after purchasing latte:<br>\n",
    "Water: 100ml<br>\n",
    "Milk: 50ml<br>\n",
    "Coffee: 76g<br>\n",
    "Money: \\\\$2.5<br>\n",
    "b. Once all resources have been deducted, tell the user “Here is your latte. Enjoy!”. If latte was their choice of drink."
   ]
  },
  {
   "cell_type": "code",
   "execution_count": 2,
   "id": "c6f96728-50f1-4b12-9835-a5f7fd68cd93",
   "metadata": {},
   "outputs": [
    {
     "name": "stdin",
     "output_type": "stream",
     "text": [
      "What would you like? (espresso/latte/cappuccino):  latte\n"
     ]
    },
    {
     "name": "stdout",
     "output_type": "stream",
     "text": [
      "A latte costs 2.50\n",
      "Please insert coins.\n"
     ]
    },
    {
     "name": "stdin",
     "output_type": "stream",
     "text": [
      "How many pennies?:  4\n",
      "How many nickels?:  4\n",
      "How many dimes?:  4\n",
      "How many quarters?:  4\n"
     ]
    },
    {
     "name": "stdout",
     "output_type": "stream",
     "text": [
      "$1.64 is insufficient. Refunding money.\n"
     ]
    },
    {
     "name": "stdin",
     "output_type": "stream",
     "text": [
      "What would you like? (espresso/latte/cappuccino):  latte\n"
     ]
    },
    {
     "name": "stdout",
     "output_type": "stream",
     "text": [
      "A latte costs 2.50\n",
      "Please insert coins.\n"
     ]
    },
    {
     "name": "stdin",
     "output_type": "stream",
     "text": [
      "How many pennies?:  8\n",
      "How many nickels?:  8\n",
      "How many dimes?:  8\n",
      "How many quarters?:  8\n"
     ]
    },
    {
     "name": "stdout",
     "output_type": "stream",
     "text": [
      "Here is $0.78 in change: \n",
      "Latte Dispensing... Please wait...\n",
      "Water: 100ml\n",
      "Milk: 50ml\n",
      "Coffee: 76ml\n",
      "Drinks Sold: 1\n",
      "Total Sales = $2.5\n",
      "Here is your Latte. Enjoy! ☕️ \n"
     ]
    },
    {
     "name": "stdin",
     "output_type": "stream",
     "text": [
      "What would you like? (espresso/latte/cappuccino):  cappuccino\n"
     ]
    },
    {
     "name": "stdout",
     "output_type": "stream",
     "text": [
      "Sorry, but there isn't enough water and milk\n"
     ]
    },
    {
     "name": "stdin",
     "output_type": "stream",
     "text": [
      "What would you like? (espresso/latte/cappuccino):  report\n"
     ]
    },
    {
     "name": "stdout",
     "output_type": "stream",
     "text": [
      "Water: 100ml\n",
      "Milk: 50ml\n",
      "Coffee: 76ml\n",
      "Drinks Sold: 1\n",
      "Total Sales = $2.5\n"
     ]
    },
    {
     "name": "stdin",
     "output_type": "stream",
     "text": [
      "What would you like? (espresso/latte/cappuccino):  off\n"
     ]
    }
   ],
   "source": [
    "MENU = {\n",
    "    \"espresso\": {\n",
    "        \"ingredients\": {\n",
    "            \"water\": 50,\n",
    "            \"milk\": 0,\n",
    "            \"coffee\": 18,\n",
    "        },\n",
    "        \"cost\": 1.5,\n",
    "    },\n",
    "    \"latte\": {\n",
    "        \"ingredients\": {\n",
    "            \"water\": 200,\n",
    "            \"milk\": 150,\n",
    "            \"coffee\": 24,\n",
    "        },\n",
    "        \"cost\": 2.5,\n",
    "    },\n",
    "    \"cappuccino\": {\n",
    "        \"ingredients\": {\n",
    "            \"water\": 250,\n",
    "            \"milk\": 100,\n",
    "            \"coffee\": 24,\n",
    "        },\n",
    "        \"cost\": 3.0,\n",
    "    }\n",
    "}\n",
    "\n",
    "drinks_sold = 0\n",
    "sales = 0\n",
    "\n",
    "resources = {\n",
    "    \"water\": 300,\n",
    "    \"milk\": 200,\n",
    "    \"coffee\": 100,\n",
    "}\n",
    "\n",
    "def report():\n",
    "    \"\"\" Provides a report of each of the components, including total sales \"\"\"\n",
    "    print(f\"Water: {resources['water']}ml\\nMilk: {resources['milk']}ml\\nCoffee: {resources['coffee']}ml\\nDrinks Sold: {drinks_sold}\\nTotal Sales = ${sales}\")\n",
    "#or use option+shift to select multiple lines for multi-line editing\n",
    "\n",
    "def check_resources(drink_choice):\n",
    "    \"\"\" Checks if resources are available to make specified drink, returning the lacking component and True if sufficient \"\"\"\n",
    "    insufficient_components = []\n",
    "\n",
    "    for resource in resources:\n",
    "        if resources[resource] < MENU[drink_choice]['ingredients'][resource]:\n",
    "            insufficient_components.append(resource)\n",
    "\n",
    "    is_sufficient = len(insufficient_components) == 0\n",
    "    return is_sufficient, insufficient_components\n",
    "\n",
    "def check_money(coin1, coin2, coin3, coin4, drink_choice):\n",
    "    \"\"\" Totals the values of each coin, as well as if the money provided is greater than the cost \"\"\"\n",
    "    total = coin1 * 0.01 + coin2 * 0.05 + coin3 * 0.1 + coin4 * 0.25\n",
    "    return total, total >= MENU[drink_choice]['cost']\n",
    "\n",
    "def make_coffee(drink_choice):\n",
    "    \"\"\" Dispenses coffee, and updates the resources to reflect the new balance \"\"\"\n",
    "    #dispense_coffee()\n",
    "    for ingredient in MENU[drink_choice]['ingredients']: #deduct resources\n",
    "        resources[ingredient] -= MENU[drink_choice]['ingredients'][ingredient]\n",
    "    report()\n",
    "\n",
    "machine_status = 'on'\n",
    "\n",
    "while machine_status == 'on':\n",
    "    coffee_selected = input(\"What would you like? (espresso/latte/cappuccino): \").lower()\n",
    "\n",
    "    if coffee_selected == 'off':\n",
    "        machine_status = 'off'\n",
    "\n",
    "    elif coffee_selected == 'report':\n",
    "        report()\n",
    "\n",
    "    else:\n",
    "        check_resources(coffee_selected)\n",
    "        if check_resources(coffee_selected)[0]:\n",
    "            print(f\"A {coffee_selected} costs {MENU[coffee_selected]['cost']:.2f}\")\n",
    "\n",
    "            print(\"Please insert coins.\")\n",
    "\n",
    "            pennies = float(input(\"How many pennies?: \"))\n",
    "            nickels = float(input(\"How many nickels?: \"))\n",
    "            dimes = float(input(\"How many dimes?: \"))\n",
    "            quarters = float(input(\"How many quarters?: \"))\n",
    "\n",
    "            money_provided = check_money(pennies, nickels, dimes, quarters, coffee_selected)[0]\n",
    "\n",
    "            if check_money(pennies, nickels, dimes, quarters, coffee_selected)[1]:\n",
    "                if money_provided > MENU[coffee_selected]['cost']:\n",
    "                    change = money_provided - MENU[coffee_selected]['cost']\n",
    "                    sales += MENU[coffee_selected]['cost']\n",
    "                    drinks_sold += 1\n",
    "                    print(f\"Here is ${change:.2f} in change: \")\n",
    "\n",
    "                print(f\"{coffee_selected.capitalize()} Dispensing... Please wait...\")\n",
    "\n",
    "                make_coffee(coffee_selected)\n",
    "\n",
    "                print(f\"Here is your {coffee_selected.capitalize()}. Enjoy! ☕️ \")\n",
    "\n",
    "            else:\n",
    "                print(f\"${money_provided:.2f} is insufficient. Refunding money.\")\n",
    "        else:\n",
    "            insufficient_resources =  check_resources(coffee_selected)[1]\n",
    "            print(f\"Sorry, but there isn't enough {' and '.join(insufficient_resources)}\")\n"
   ]
  },
  {
   "cell_type": "markdown",
   "id": "5c327eea-6c92-47c1-b606-3f9168ceffb3",
   "metadata": {},
   "source": [
    "### <b>Object Oriented Programming<b>"
   ]
  },
  {
   "cell_type": "markdown",
   "id": "5d68e121-62f4-46c2-9fa4-674b77396c68",
   "metadata": {},
   "source": [
    "### <b>The Quiz Project<b>"
   ]
  },
  {
   "cell_type": "markdown",
   "id": "8dcbd821-51c9-41c7-bd11-435a541e6369",
   "metadata": {},
   "source": [
    "### <b>Turtle and the GUI<b>"
   ]
  },
  {
   "cell_type": "markdown",
   "id": "35024b91-35e1-4158-807c-784f509ab7c9",
   "metadata": {},
   "source": [
    "### <b>Instances, State and Higher Order Functions<b>"
   ]
  },
  {
   "cell_type": "markdown",
   "id": "ac618840-e122-45a1-bfa1-12674a886fc1",
   "metadata": {},
   "source": [
    "### <b>Snake Game Part 1: Animation and Coordinates<b>"
   ]
  },
  {
   "cell_type": "markdown",
   "id": "246fc37d-47aa-432c-bcc6-1116a2da7cdb",
   "metadata": {},
   "source": [
    "### <b>Snake Game Part 2: Inheritance and List Slicing<b>"
   ]
  },
  {
   "cell_type": "markdown",
   "id": "a78b27fb-9355-4868-8e2e-860d9221cd9a",
   "metadata": {},
   "source": [
    "### <b>Pong<b>"
   ]
  },
  {
   "cell_type": "markdown",
   "id": "4a5517a2-d711-4fb8-a4bf-724ddb5ce3b5",
   "metadata": {},
   "source": [
    "### <b>Turtle Crossing Capstone Project<b>"
   ]
  },
  {
   "cell_type": "markdown",
   "id": "cdf6bd32-5980-49ab-8b58-ef3b8d523afd",
   "metadata": {},
   "source": [
    "web foundation starts here"
   ]
  },
  {
   "cell_type": "markdown",
   "id": "aca49edd-a649-4ea0-ac3b-bea78985c7f9",
   "metadata": {},
   "source": [
    "intermediate+ starts here"
   ]
  },
  {
   "cell_type": "markdown",
   "id": "f1abc72e-6f11-4151-b083-89ff60bd1c0a",
   "metadata": {},
   "source": [
    "advanced starts  here"
   ]
  },
  {
   "cell_type": "markdown",
   "id": "9fa65244-65f0-49d5-947a-5f381c2d5324",
   "metadata": {},
   "source": [
    "professional starts here"
   ]
  },
  {
   "cell_type": "code",
   "execution_count": null,
   "id": "ca448798-7962-4025-8d76-2d531f5e23d6",
   "metadata": {},
   "outputs": [],
   "source": []
  }
 ],
 "metadata": {
  "kernelspec": {
   "display_name": "Python 3 (ipykernel)",
   "language": "python",
   "name": "python3"
  },
  "language_info": {
   "codemirror_mode": {
    "name": "ipython",
    "version": 3
   },
   "file_extension": ".py",
   "mimetype": "text/x-python",
   "name": "python",
   "nbconvert_exporter": "python",
   "pygments_lexer": "ipython3",
   "version": "3.10.6"
  }
 },
 "nbformat": 4,
 "nbformat_minor": 5
}
