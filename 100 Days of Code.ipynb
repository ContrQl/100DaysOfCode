{
 "cells": [
  {
   "cell_type": "markdown",
   "id": "50581ed8-d4cb-4341-a020-e2cd7203a75a",
   "metadata": {},
   "source": [
    "### <b>freewritten preamble</b>\n",
    "python is a step up from C+ in terms of convenience, dropping syntax such as semicolons, and uses much more intuitive wording. it does away with alot of things that C+ had to deal with, like dynamic allocation i believe, so i dont have to free up memory in python like i do in C+. although some languages matlab brings the semicolon back to suppress output so it really depends on usage. python is great for personal projects but statisticians still prefer R, this might be due to the packages available specifically for R. this course would probably be more of a cross-generalisation effort since the previous course by CS50 made me somewhat used to the C+ syntax so hopefully by the end syntax will take a back seat and i can think like a programmer"
   ]
  },
  {
   "cell_type": "markdown",
   "id": "94f52550-6b84-42ae-bffc-51f031ef22f1",
   "metadata": {},
   "source": [
    "### <b>basics</b>\n",
    "printing something: simple in python, probably will be used most for keeping track of processes and in debugging to display hidden outputs. whatever is put in double quotes are not code but strings i.e. arbitrary inputs. how to take inputs from the user, cast them into variables, take its length, and swapping contents of variables."
   ]
  },
  {
   "cell_type": "code",
   "execution_count": 22,
   "id": "453d2d1b-69e6-4832-b134-1f039f4d3274",
   "metadata": {},
   "outputs": [
    {
     "name": "stdout",
     "output_type": "stream",
     "text": [
      "Hello World!\n",
      "Hello World!\n",
      "Hello World!\n",
      "Hello Angela\n"
     ]
    },
    {
     "name": "stdin",
     "output_type": "stream",
     "text": [
      "What is your name? levi\n"
     ]
    },
    {
     "name": "stdout",
     "output_type": "stream",
     "text": [
      "Hello levi!\n"
     ]
    },
    {
     "name": "stdin",
     "output_type": "stream",
     "text": [
      "What is your name? levi\n"
     ]
    }
   ],
   "source": [
    "print(\"Hello World!\")\n",
    "print(\"Hello World!\\nHello World!\") #new line\n",
    "print(\"Hello\" + \" \" + \"Angela\") #concatenation\n",
    "\n",
    "print(\"Hello \" + input(\"What is your name?\") + \"!\") #user inputs\n",
    "name = input(\"What is your name?\") #variables; desecriptive; deconflicted; snake_case; case-sensitive\n",
    "len(name) #string length; and only strings\n",
    "len(name); #semicolon suppresses output\n",
    "\n",
    "glass1 = \"milk\"\n",
    "glass2 = \"juice\"\n",
    "glass_temp = glass1 #switching contents of variables\n",
    "glass1 = glass2\n",
    "glass2 = glass_temp\n",
    "\n",
    "print(\"Hello\"[0]) #indexing into strings by subscripting; starts at 0; supports negative indexing\n",
    "#NameError when accessing unassigned variables\n"
   ]
  },
  {
   "cell_type": "markdown",
   "id": "9c09b4a9-2c32-40fb-a22f-86e7d8ca5903",
   "metadata": {},
   "source": [
    "<b>Project 1: Band Name Generator</b><br>\n",
    "Create a greeting for your program.<br>\n",
    "Ask the user for the city that they grew up in and store it in a variable.<br>\n",
    "Ask the user for the name of a pet and store it in a variable.<br>\n",
    "Combine the name of their city and pet and show them their band name."
   ]
  },
  {
   "cell_type": "code",
   "execution_count": 23,
   "id": "e37332a9-bdef-4187-85e1-40cad6ce1315",
   "metadata": {},
   "outputs": [
    {
     "name": "stdout",
     "output_type": "stream",
     "text": [
      "Welcome to the Band Name Generator/n\n"
     ]
    },
    {
     "name": "stdin",
     "output_type": "stream",
     "text": [
      "What is the name of the city you grew up in? Singapore\n",
      "What's your pet name? levi\n"
     ]
    },
    {
     "name": "stdout",
     "output_type": "stream",
     "text": [
      "Your band name could be Singapore levi\n"
     ]
    }
   ],
   "source": [
    "print(\"Welcome to the Band Name Generator\")\n",
    "city = input(\"What is the name of the city you grew up in?\\n\")\n",
    "pet_name = input(\"What's your pet name?\\n\")\n",
    "print(\"Your band name could be \" + city + \" \" + pet_name)"
   ]
  },
  {
   "cell_type": "markdown",
   "id": "22aef656-a9b6-45dd-bc19-0b2de06f00e3",
   "metadata": {},
   "source": [
    "### <b>primitive data types</b>\n",
    "strings, integers, floats and type conversions. boolean operators. f-strings."
   ]
  },
  {
   "cell_type": "code",
   "execution_count": 43,
   "id": "2b8d8d3d-1ca8-4382-80a1-63df1997a9b6",
   "metadata": {},
   "outputs": [
    {
     "name": "stdout",
     "output_type": "stream",
     "text": [
      "532321214\n",
      "579\n",
      "4\n",
      "6\n",
      "1.6666666666666667\n",
      "1\n",
      "4\n",
      "3\n",
      "-3\n",
      "3.14\n",
      "-2\n",
      "<class 'str'>\n",
      "12345.0\n",
      "88\n",
      "False\n",
      "Your score is = 0.75, your height is = 1.8. You are winning is True\n"
     ]
    }
   ],
   "source": [
    "jumble_string = \"abcde\" #data type is automatically assigned in python\n",
    "\n",
    "jumble_integer = 12345 #integer; TypeError if len(integer)\n",
    "common_mistake = \"12345\" #reminder that quotes make anything string\n",
    "print(532_321_214) #underscores for readability are ignored\n",
    "#PEMDAS\n",
    "print(123 + 456) #simple calculations\n",
    "print(7 - 3)\n",
    "print(3 * 2)\n",
    "print(5 / 3) #fractions with implicit typecasting to a float\n",
    "print(5 // 3) #truncates decimal places\n",
    "print(2 ** 2) #exponent;\n",
    "\n",
    "print(int(3.14159)) #flooring a number\n",
    "print(round(-3.1415)) #round up to nearest integer\n",
    "print(round(3.14159, 2)) #round up, to 2 d.p.\n",
    "print(round(-2.5)) #banker's rounding, go to nearest even integer; math.ceil() for strictly round up\n",
    "\n",
    "score = 0\n",
    "score += 2 #shorthand for score = score + 1 (assignment operator); for tracking purposes\n",
    "score -= 1\n",
    "score *= 3\n",
    "score /= 4\n",
    "\n",
    "jumble_float = 88.12 #float (floating point number; number with a \"floating point\"\n",
    "\n",
    "jumble_boolean = False #boolean operators; case-sensitive\n",
    "\n",
    "print(type(jumbstring)) #reveals data type\n",
    "\n",
    "print(float(jumbinteger)) #type conversion\n",
    "print(int(jumbfloat)) #type conversion; ValueError if converting string to a number\n",
    "print(str(jumboolean)) #type conversion\n",
    "\n",
    "height = 1.8\n",
    "is_winning = True\n",
    "print(f\"Your score is = {score}, your height is = {height}. You are winning is {is_winning}\") #f-strings mix data types\n"
   ]
  },
  {
   "cell_type": "markdown",
   "id": "4c1380bd-3d25-4f0b-a8fd-e8ec64999b50",
   "metadata": {},
   "source": [
    "<b>Project 2: Tip Calculator</b><br>\n",
    "We're going to build a tip calculator.<br>\n",
    "If the bill was $150.00, split between 5 people, with 12% tip.<br>\n",
    "Each person should pay:<br>\n",
    "(150.00 / 5) * 1.12 = 33.6<br>\n",
    "After formatting the result to 2 decimal places = 33.60"
   ]
  },
  {
   "cell_type": "code",
   "execution_count": 54,
   "id": "17aab385-9f34-4040-810d-8e00d771227b",
   "metadata": {},
   "outputs": [
    {
     "name": "stdout",
     "output_type": "stream",
     "text": [
      "Welcome to the tip calculator!\n"
     ]
    },
    {
     "name": "stdin",
     "output_type": "stream",
     "text": [
      "What was the total bill?\n",
      "$ 150\n",
      "What percentage tip would you like to give? 10% 12% 15%\n",
      " 12\n",
      "How many people to split the bill?\n",
      " 5\n"
     ]
    },
    {
     "name": "stdout",
     "output_type": "stream",
     "text": [
      "Each person should pay: $33.60\n"
     ]
    }
   ],
   "source": [
    "print(\"Welcome to the tip calculator!\")\n",
    "bill = float(input(\"What was the total bill?\\n$\"))\n",
    "tip = int(input(\"What percentage tip would you like to give? 10% 12% 15%\\n\"))/100\n",
    "people = int(input(\"How many people to split the bill?\\n\"))\n",
    "contribution = round(((bill*tip + bill)/people), 2)\n",
    "print(f\"Each person should pay: ${contribution:.2f}\")\n"
   ]
  },
  {
   "cell_type": "markdown",
   "id": "a36e006c-e2bf-4205-9397-a33010308483",
   "metadata": {},
   "source": [
    "### <b>control flow using logical operators</b>\n",
    "conditional checks, comparator operators, modulo, logical operators, code blocks, nesting and scope. if things get complicated, especially with multiple nesting, then it would be useful to use a flowchart in draw.io visualisation of pseudocode"
   ]
  },
  {
   "cell_type": "code",
   "execution_count": 65,
   "id": "96891916-d620-4ff8-a8bf-236a5966ef20",
   "metadata": {},
   "outputs": [
    {
     "name": "stdin",
     "output_type": "stream",
     "text": [
      "What is your height in cm?  180\n"
     ]
    },
    {
     "name": "stdout",
     "output_type": "stream",
     "text": [
      "You can ride the rollercoaster\n"
     ]
    },
    {
     "name": "stdin",
     "output_type": "stream",
     "text": [
      "What is your age?  45\n"
     ]
    },
    {
     "name": "stdout",
     "output_type": "stream",
     "text": [
      "Everything is going to be ok. Have a free ride on us!\n"
     ]
    },
    {
     "name": "stdin",
     "output_type": "stream",
     "text": [
      "Do you want to have a photo taken? Type y for Yes or n for No y\n"
     ]
    },
    {
     "name": "stdout",
     "output_type": "stream",
     "text": [
      "Your final bill is 21\n",
      "Odd\n"
     ]
    }
   ],
   "source": [
    "height = int(input(\"What is your height in cm? \"))\n",
    "\n",
    "if height >= 120: #if statements, using comparator operators (>; <; >=; <=; ==, !=)\n",
    "    print(\"You can ride the rollercoaster\") #indentation indicate parent/child relationship\n",
    "    age = int(input(\"What is your age? \")) #IndentationError if misaligned\n",
    "    if age < 12: #nested if statements\n",
    "        bill = 5\n",
    "        print(\"Child tickets are $5.\")\n",
    "    elif age < 18: #as many elifs as needed\n",
    "        bill = 7\n",
    "        print(\"Youth tickets are $7.\")\n",
    "    elif 45 <= age <= 55: #logical operators: exclusive and; inclusive or; reversive not\n",
    "        print(\"Everything is going to be ok. Have a free ride on us!\")\n",
    "    else:\n",
    "        bill = 12\n",
    "        print(\"Adult tickets are $12.\")\n",
    "\n",
    "    wants_photo = input(\"Do you want to have a photo taken? Type y for Yes or n for No\")\n",
    "    if wants_photo == \"y\": #successive if statements\n",
    "        bill += 3\n",
    "    print(f\"Your final bill is {bill}\")\n",
    "else:\n",
    "    print(\"Sorry you have to grow taller before you can ride\") #useful to draw a flow chart in draw.io\n",
    "\n",
    "number_to_check = 12345\n",
    "if number_to_check % 2 == 0: #modulo displays the remainder; useful for checking evenness\n",
    "    print(\"Even\")\n",
    "else:\n",
    "    print(\"Odd\")\n"
   ]
  },
  {
   "cell_type": "markdown",
   "id": "cbd19b90-bf9c-45ce-99a8-749b0ca9493f",
   "metadata": {},
   "source": [
    "<b>Project 3: Treasure Island</b><br>\n",
    "Your goal today is to build a \"Chose your own adventure game\". Using what you have learnt in the lessons today you will be building a very simple version of this type of text game. Flow chart [here](https://app.diagrams.net/?lightbox=1&highlight=0000ff&edit=_blank&layers=1&nav=1&title=Treasure%20Island%20Conditional.drawio#Uhttps%3A%2F%2Fdrive.google.com%2Fuc%3Fid%3D1oDe4ehjWZipYRsVfeAx2HyB7LCQ8_Fvi%26export%3Ddownload#%7B%22pageId%22%3A%22C5RBs43oDa-KdzZeNtuy%22%7D)"
   ]
  },
  {
   "cell_type": "code",
   "execution_count": 77,
   "id": "88b72ed3-862e-4eea-a81e-7afaee5be497",
   "metadata": {},
   "outputs": [
    {
     "name": "stdout",
     "output_type": "stream",
     "text": [
      "\n",
      "*******************************************************************************\n",
      "          |                   |                  |                     |\n",
      " _________|________________.=\"\"_;=.______________|_____________________|_______\n",
      "|                   |  ,-\"_,=\"\"     `\"=.|                  |\n",
      "|___________________|__\"=._o`\"-._        `\"=.______________|___________________\n",
      "          |                `\"=._o`\"=._      _`\"=._                     |\n",
      " _________|_____________________:=._o \"=._.\"_.-=\"'\"=.__________________|_______\n",
      "|                   |    __.--\" , ; `\"=._o.\" ,-\"\"\"-._ \".   |\n",
      "|___________________|_._\"  ,. .` ` `` ,  `\"-._\"-._   \". '__|___________________\n",
      "          |           |o`\"=._` , \"` `; .\". ,  \"-._\"-._; ;              |\n",
      " _________|___________| ;`-.o`\"=._; .\" ` '`.\"\\` . \"-._ /_______________|_______\n",
      "|                   | |o;    `\"-.o`\"=._``  '` \" ,__.--o;   |\n",
      "|___________________|_| ;     (#) `-.o `\"=.`_.--\"_o.-; ;___|___________________\n",
      "____/______/______/___|o;._    \"      `\".o|o_.--\"    ;o;____/______/______/____\n",
      "/______/______/______/_\"=._o--._        ; | ;        ; ;/______/______/______/_\n",
      "____/______/______/______/__\"=._o--._   ;o|o;     _._;o;____/______/______/____\n",
      "/______/______/______/______/____\"=._o._; | ;_.--\"o.--\"_/______/______/______/_\n",
      "____/______/______/______/______/_____\"=.o|o_.--\"\"___/______/______/______/____\n",
      "/______/______/______/______/______/______/______/______/______/______/________\n",
      "*******************************************************************************\n",
      "\n",
      "Welcome to Treasure Island. Your mission is the find the treasure.\n"
     ]
    },
    {
     "name": "stdin",
     "output_type": "stream",
     "text": [
      "You're at a cross road.\"Where do you want to go? Type \"left\" or \"right\".\n",
      " left\n"
     ]
    },
    {
     "name": "stdout",
     "output_type": "stream",
     "text": [
      "You've come to a lake. There is an island in the middle of the lake.\n"
     ]
    },
    {
     "name": "stdin",
     "output_type": "stream",
     "text": [
      "Type \"wait\" to wait for a boat. Type \"swim\" to swim across.\n",
      " wait\n"
     ]
    },
    {
     "name": "stdout",
     "output_type": "stream",
     "text": [
      "You arrive at the island unharmed. There is a house with 3 doors. One red, one yellow and one blue.\n"
     ]
    },
    {
     "name": "stdin",
     "output_type": "stream",
     "text": [
      "Which colour do you choose?\n",
      " yellow\n"
     ]
    },
    {
     "name": "stdout",
     "output_type": "stream",
     "text": [
      "You found the treasure. You won the game!\n"
     ]
    }
   ],
   "source": [
    "print('''\n",
    "*******************************************************************************\n",
    "          |                   |                  |                     |\n",
    " _________|________________.=\"\"_;=.______________|_____________________|_______\n",
    "|                   |  ,-\"_,=\"\"     `\"=.|                  |\n",
    "|___________________|__\"=._o`\"-._        `\"=.______________|___________________\n",
    "          |                `\"=._o`\"=._      _`\"=._                     |\n",
    " _________|_____________________:=._o \"=._.\"_.-=\"'\"=.__________________|_______\n",
    "|                   |    __.--\" , ; `\"=._o.\" ,-\"\"\"-._ \".   |\n",
    "|___________________|_._\"  ,. .` ` `` ,  `\"-._\"-._   \". '__|___________________\n",
    "          |           |o`\"=._` , \"` `; .\". ,  \"-._\"-._; ;              |\n",
    " _________|___________| ;`-.o`\"=._; .\" ` '`.\"\\` . \"-._ /_______________|_______\n",
    "|                   | |o;    `\"-.o`\"=._``  '` \" ,__.--o;   |\n",
    "|___________________|_| ;     (#) `-.o `\"=.`_.--\"_o.-; ;___|___________________\n",
    "____/______/______/___|o;._    \"      `\".o|o_.--\"    ;o;____/______/______/____\n",
    "/______/______/______/_\"=._o--._        ; | ;        ; ;/______/______/______/_\n",
    "____/______/______/______/__\"=._o--._   ;o|o;     _._;o;____/______/______/____\n",
    "/______/______/______/______/____\"=._o._; | ;_.--\"o.--\"_/______/______/______/_\n",
    "____/______/______/______/______/_____\"=.o|o_.--\"\"___/______/______/______/____\n",
    "/______/______/______/______/______/______/______/______/______/______/________\n",
    "*******************************************************************************\n",
    "''') #from ascii.co.uk\n",
    "print(\"Welcome to Treasure Island. Your mission is the find the treasure.\")\n",
    "\n",
    "cross_road_direction = input('You\\'re at a cross road.'\n",
    "                             'Where do you want to go? Type \"left\" or \"right\".\\n').lower()\n",
    "#using single quotes here to allow double quotes in string, and escaping single quote using backslash within string\n",
    "\n",
    "if cross_road_direction == \"left\":\n",
    "    print(\"You\\'ve come to a lake. There is an island in the middle of the lake.\")\n",
    "\n",
    "    lake_decision = input('Type \"wait\" to wait for a boat. '\n",
    "                          'Type \"swim\" to swim across.\\n').lower() #new line for readability\n",
    "    \n",
    "    if lake_decision == \"wait\" or lake_decision == \"wait\":\n",
    "        print(\"You arrive at the island unharmed. \"\n",
    "              \"There is a house with 3 doors. One red, one yellow and one blue.\")\n",
    "\n",
    "        door_choice = input(\"Which colour do you choose?\\n\").lower()\n",
    "        \n",
    "        if door_choice == \"red\":\n",
    "            #can also say if door_choice in [\"Red\", \"red\", \"R\", 'r\"]:\n",
    "            print(\"You were burned by fire. Game over!\")\n",
    "        elif door_choice == \"blue\":\n",
    "            print(\"You were eaten by beasts. Game over!\")\n",
    "        else:\n",
    "            print(\"You found the treasure. You won the game!\")\n",
    "    else:\n",
    "        print(\"You were attacked by a trout. Game over!\")\n",
    "else:\n",
    "    print(\"You fell into a hole. Game over!\")\n",
    "\n",
    "#a better way would be to check for the terminating scenario first, so processing is sometimes faster (in games where termianting scenarios are chosen)\n",
    "#even better to add a terminating scenario for invalid responses first"
   ]
  },
  {
   "cell_type": "markdown",
   "id": "577693e0-48e3-4315-a497-1d3bf087cb87",
   "metadata": {},
   "source": [
    "### <b>randomisation and python lists<b>\n",
    "the random module generates unpredictability in scientific research and in games. however, deterministic machines can only achieve pseudorandomness. python uses the [mersenne twister to generate \"randomness\"](https://www.khanacademy.org/computing/computer-science/cryptography/crypt/v/random-vs-pseudorandom-number-generator). it's abstracted away in python's [random module](https://docs.python.org/3/library/random.html). modules break up complex projects for readability and delegation during development."
   ]
  },
  {
   "cell_type": "code",
   "execution_count": 106,
   "id": "09ea7d65-f8ee-4310-a82c-d5c708636363",
   "metadata": {},
   "outputs": [
    {
     "name": "stdout",
     "output_type": "stream",
     "text": [
      "6\n",
      "0.005685737783534761\n",
      "8.370561986674245\n",
      "3.22897707417823\n",
      "Tails\n",
      "Orange\n",
      "['Strawberries', 'Orange', 'Passionfruits', 'Watermelon']\n",
      "Alice\n",
      "Charlie\n",
      "5\n",
      "Spinach\n",
      "Spinach\n"
     ]
    }
   ],
   "source": [
    "import random #module saved in another .py file; use \".\" to access attributes/objects in module\n",
    "\n",
    "random_integer = random.randint(1, 10) #random integer within a range\n",
    "print(random_integer)\n",
    "\n",
    "random_number_0_to_1 = random.random() #a floating point number between 0 and 1\n",
    "print(random_number_0_to_1)\n",
    "\n",
    "random_number_0_to_10 = random.random() * 10 #10 modifier places it between 0-10\n",
    "print(random_number_0_to_10)\n",
    "\n",
    "random_float = random.uniform(1, 10) #may exclude 10 due to floating-point precision\n",
    "print(random_float)\n",
    "\n",
    "coin_flip = random.randint(0, 1)\n",
    "if coin_flip == 0:\n",
    "    print(\"Tails\") #associating outcomes with random probabilities; complexity warfare/obfuscation\n",
    "else:\n",
    "    print(\"Heads\")\n",
    "\n",
    "#you can also use seeds for reproducibility\n",
    "\n",
    "fruit = [\"Apple\", \"Oranqe\", \"Cherry\"] #use a list to group similar items\n",
    "(fruits[1]) = \"Orange\" #[] subscripts into the list\n",
    "print(fruits[1])\n",
    "\n",
    "fruits.append(\"Watermelon\") #add item to list; also .extend for multiple new items; insert; remove\n",
    "print(fruits)\n",
    "\n",
    "#take advantage that order is preserved; supports negative indexing\n",
    "\n",
    "friends = [\"Alice\", \"Bob\", \"Charlie\", \"David\", \"Emanuel\"]\n",
    "print(friends[friend_index]) #or\n",
    "\n",
    "print(random.choice(friends)) #random item from specified list\n",
    "\n",
    "number_of_friends = len(friends) #len is always 1 more than the index of the last item\n",
    "\n",
    "print(number_of_friends) #IndexError if nonexistent position is specified\n",
    "\n",
    "dirty_dozen = [\"fruits\", \"vegetables\"]\n",
    "dirty_dozen[0] = [\"Strawberries\", \"Watermelons\", \"Passionfruits\"] #nested lists\n",
    "dirty_dozen[1] = [\"Kale\", \"Spinach\", \"Broccoli\"]#or\n",
    "print(dirty_dozen[1][1])\n",
    "\n",
    "fruits = [\"Strawberries\", \"Watermelons\", \"Passionfruits\"]\n",
    "vegetables = [\"Kale\", \"Spinach\", \"Broccoli\"]\n",
    "dirty_dozen = [fruits, vegetables]\n",
    "print(dirty_dozen[1][1])#or\n",
    "\n",
    "#dictionaries on the other hand, stores unordered collection of items as \"key\":value pairs\n",
    "#python 3.7 maintains insertion order but access still via key\n"
   ]
  },
  {
   "cell_type": "markdown",
   "id": "6fea19d4-4634-44d8-a7b9-f6af3ae44de9",
   "metadata": {},
   "source": [
    "<b>Project 4: Rock, Paper, Scissors</b><br>\n",
    "You are going to build a Rock, Paper, Scissors game. You will need to use what you have learnt about randomisation and Lists to achieve this."
   ]
  },
  {
   "cell_type": "code",
   "execution_count": 151,
   "id": "46ee3b7b-5c29-446d-b466-81f712b68d07",
   "metadata": {},
   "outputs": [
    {
     "name": "stdin",
     "output_type": "stream",
     "text": [
      "What do you choose? Type 0 for Rock, 1 for Paper, or 2 for Scissors. 1\n"
     ]
    },
    {
     "name": "stdout",
     "output_type": "stream",
     "text": [
      "Computer chose: \n",
      "\n",
      "    _______\n",
      "---'   ____)____\n",
      "          ______)\n",
      "       __________)\n",
      "      (____)\n",
      "---.__(___)\n",
      "\n",
      "You chose: \n",
      "\n",
      "    _______\n",
      "---'   ____)____\n",
      "          ______)\n",
      "          _______)\n",
      "         _______)\n",
      "---.__________)\n",
      "\n",
      "You lose!\n"
     ]
    }
   ],
   "source": [
    "import random\n",
    "\n",
    "rock = '''\n",
    "    _______\n",
    "---'   ____)\n",
    "      (_____)\n",
    "      (_____)\n",
    "      (____)\n",
    "---.__(___)\n",
    "'''\n",
    "\n",
    "paper = '''\n",
    "    _______\n",
    "---'   ____)____\n",
    "          ______)\n",
    "          _______)\n",
    "         _______)\n",
    "---.__________)\n",
    "'''\n",
    "\n",
    "scissors = '''\n",
    "    _______\n",
    "---'   ____)____\n",
    "          ______)\n",
    "       __________)\n",
    "      (____)\n",
    "---.__(___)\n",
    "'''\n",
    "\n",
    "options = [rock, paper, scissors]\n",
    "\n",
    "player_choice = options[int(input(\"What do you choose? Type 0 for Rock, 1 for Paper, or 2 for Scissors.\"))]\n",
    "computer_choice = random.choice(options)\n",
    "\n",
    "if player_choice == computer_choice:\n",
    "    print(f'Computer chose: \\n{computer_choice}\\nYou chose: \\n{player_choice}\\nIt\\'s a draw!')\n",
    "elif (\n",
    "    (player_choice == rock and computer_choice == paper) or\n",
    "    (player_choice == paper and computer_choice == scissors) or\n",
    "    (player_choice == scissors and computer_choice == rock)\n",
    "): #can also use \\ for line continuation\n",
    "    print(f'Computer chose: \\n{computer_choice}\\nYou chose: \\n{player_choice}\\nYou lose!')\n",
    "else:\n",
    "    print(f'Computer chose: \\n{computer_choice}\\nYou chose: \\n{player_choice}\\nYou won!')\n",
    "\n",
    "#defensive programming can include a catch-all to re-prompt input if anything other than 0/1/2\n"
   ]
  },
  {
   "cell_type": "markdown",
   "id": "83957329-5e78-42c6-b5b5-4a7f4f2c3cf7",
   "metadata": {},
   "source": [
    "### <b>python loops</b>\n",
    "using for loops for iterating through a list or a range, performing actions to each item."
   ]
  },
  {
   "cell_type": "code",
   "execution_count": 166,
   "id": "24c8c8e9-5b93-4347-9ddb-07e3384d8c32",
   "metadata": {},
   "outputs": [
    {
     "name": "stdout",
     "output_type": "stream",
     "text": [
      "Apple pie\n",
      "Peach pie\n",
      "Pear pie\n",
      "747\n",
      "140\n",
      "1\n",
      "4\n",
      "7\n",
      "10\n"
     ]
    }
   ],
   "source": [
    "fruits = [\"Apple\", \"Peach\", \"Pear\"]\n",
    "for fruit in fruits: #the first \"fruit\" is the arbitrary variable name assigned to each item\n",
    "    print(fruit + \" pie\") #makes intuitive sense for the variable name to be singular form of list name\n",
    "\n",
    "student_scores = [123, 140, 133, 120, 111, 120]\n",
    "\n",
    "total_exam_score = 0\n",
    "\n",
    "for score in student_scores:\n",
    "    total_exam_score += score #is just the primitive form of the sum function\n",
    "\n",
    "print(total_exam_score)\n",
    "\n",
    "total_exam_score = sum(student_scores) #abstracts away the above\n",
    "\n",
    "max_score = 0\n",
    "\n",
    "for score in student_scores:\n",
    "    if score > max_score:\n",
    "        max_score = score #is just the primitive form of the max function\n",
    "        \n",
    "print(max_score)\n",
    "\n",
    "max_score = max(student_scores) #abstracts away the above\n",
    "\n",
    "for number in range(1, 11, 3): #range function; covers lower but not upper bound; 3rd argument specifies step\n",
    "    print(number)\n",
    "\n",
    "#FizzBuzz game, where numbers divisible by 3 are replaced with Fizz, numbers divisible by 5 are replaced with Buzz, numbers divisible by both are replaced with FizzBuzz\n",
    "\"\"\"\n",
    "for number in range(1, 101):\n",
    "    if number%3 == 0 and number%5 != 0:\n",
    "        print(\"Fizz\")\n",
    "    elif number%5 == 0 and number%3 != 0:\n",
    "        print(\"Buzz\")\n",
    "    elif number%3 == 0 and number%5 == 0:\n",
    "        print(\"FizzBuzz\")\n",
    "    else:\n",
    "        print(f\"{number}\")\n",
    "\"\"\";\n"
   ]
  },
  {
   "cell_type": "markdown",
   "id": "fc8a2aaa-3e35-4f25-a6de-e5368bcd2ee6",
   "metadata": {},
   "source": [
    "<b>Project 5: PyPassword Generator</b><br>\n",
    "The program will ask:\n",
    "\n",
    "How many letters would you like in your password?<br>\n",
    "How many symbols would you like?<br>\n",
    "How many numbers would you like?<br>\n",
    "The objective is to take the inputs from the user to these questions and then generate a random password. Use your knowledge about Python lists and loops to complete the challenge."
   ]
  },
  {
   "cell_type": "code",
   "execution_count": 186,
   "id": "55f78d6f-1152-4698-83de-9e4ec3b39be5",
   "metadata": {},
   "outputs": [
    {
     "name": "stdout",
     "output_type": "stream",
     "text": [
      "Welcome to the PyPassword Generator!\n"
     ]
    },
    {
     "name": "stdin",
     "output_type": "stream",
     "text": [
      "How many letters would you like in your password?\n",
      " 4\n",
      "How many symbols would you like?\n",
      " 4\n",
      "How many numbers would you like?\n",
      " 4\n"
     ]
    },
    {
     "name": "stdout",
     "output_type": "stream",
     "text": [
      "Your password is c9&&#$9Jy6B6\n"
     ]
    }
   ],
   "source": [
    "import random\n",
    "\n",
    "letters = ['a', 'b', 'c', 'd', 'e', 'f', 'g', 'h', 'i', 'j', 'k', 'l', 'm', 'n', 'o', 'p', 'q', 'r', 's', 't', 'u', 'v', 'w', 'x', 'y', 'z', 'A', 'B', 'C', 'D', 'E', 'F', 'G', 'H', 'I', 'J', 'K', 'L', 'M', 'N', 'O', 'P', 'Q', 'R', 'S', 'T', 'U', 'V', 'W', 'X', 'Y', 'Z']\n",
    "numbers = ['0', '1', '2', '3', '4', '5', '6', '7', '8', '9']\n",
    "symbols = ['!', '#', '$', '%', '&', '(', ')', '*', '+']\n",
    "\n",
    "print(\"Welcome to the PyPassword Generator!\")\n",
    "nr_letters = int(input(\"How many letters would you like in your password?\\n\"))\n",
    "nr_symbols = int(input(\"How many symbols would you like?\\n\"))\n",
    "nr_numbers = int(input(\"How many numbers would you like?\\n\"))\n",
    "\n",
    "password_unsorted = []\n",
    "\n",
    "for letter in range(0, nr_letters): #cleaner than (1, nr_letters + 1)\n",
    "    letter = random.choice(letters)\n",
    "    password_unsorted.append(letter) #or password_unsorted.append(random.choice(letters))\n",
    "for symbol in range(0, nr_symbols):\n",
    "    symbol = random.choice(symbols)\n",
    "    password_unsorted.append(symbol)\n",
    "for number in range(0, nr_numbers):\n",
    "    number = random.choice(numbers)\n",
    "    password_unsorted.append(number)\n",
    "\n",
    "password_random_sort = []\n",
    "\n",
    "for character in range(1, len(password_unsorted) + 1):\n",
    "    character = random.choice(password_unsorted)\n",
    "    password_unsorted.remove(character) #picked without replacement\n",
    "    password_random_sort.append(character)\n",
    "\n",
    "#can also use random.shuffle(password_unsorted)\n",
    "\n",
    "password = \"\".join(password_random_sort) #converts joined list to string\n",
    "print(f\"Your password is {password}\")\n",
    "    "
   ]
  },
  {
   "cell_type": "markdown",
   "id": "e70e1cfe-821d-443b-a117-a5c6921c38c3",
   "metadata": {},
   "source": [
    "### <b>python functions & karel</b>\n",
    "functions are just wrapper names for a block of code, executing all the code within the function when called/triggered. in addition to the [built-in python functions](https://docs.python.org/3/library/functions.html), we can define new functions along the way, saving time and reducing clutter. while loops are useful for simply code blocks that do not involve lists, but can be dangerous if no  terminating condition is set-up. Majority of the lesson build up to the final project in [Reeborg's world](https://reeborg.ca/reeborg.html?lang=en&mode=python&menu=worlds%2Fmenus%2Freeborg_intro_en.json&name=Maze&url=worlds%2Ftutorial_en%2Fmaze1.json)."
   ]
  },
  {
   "cell_type": "code",
   "execution_count": 14,
   "id": "3fc9a60c-6521-44fb-acc8-93ea3ab6dbcb",
   "metadata": {},
   "outputs": [
    {
     "name": "stdout",
     "output_type": "stream",
     "text": [
      "Hello\n"
     ]
    },
    {
     "name": "stdin",
     "output_type": "stream",
     "text": [
      "What is your name? \n",
      " Angela\n"
     ]
    },
    {
     "name": "stdout",
     "output_type": "stream",
     "text": [
      "What is good my man, Angela\n",
      "Done!\n",
      "Done!\n",
      "Done!\n",
      "Done!\n",
      "Done!\n"
     ]
    },
    {
     "data": {
      "image/png": "[encoded data removed]",
      "text/plain": [
       "<Figure size 640x480 with 1 Axes>"
      ]
     },
     "metadata": {},
     "output_type": "display_data"
    }
   ],
   "source": [
    "def get_user_name(): #functions are just compound code lines\n",
    "    name = input(\"What is your name? \\n\") #pep8 and python guideline is 4 spaces rather than tab for indn\n",
    "    print(\"What is good my man, \" + name)\n",
    "    return #return statement exits the function and optionally sends a value back to the caller\n",
    "\n",
    "print(\"Hello\")\n",
    "get_user_name()\n",
    "\n",
    "#def right turn, drawing a square, and jumping in Reeborg's world\n",
    "#using a for loop with defined functions to iterate over repetitive actions\n",
    "\n",
    "def transfer_pallet():\n",
    "    print(\"Done!\")\n",
    "\n",
    "total_pallets = 5\n",
    "while total_pallets != 0: #keep executing a set of code as long as a certain condition is true\n",
    "    transfer_pallet()\n",
    "    total_pallets -= 1 #condition can be updated and self-terminating; or be infinite if omitted\n",
    "\n",
    "#for loops are good for iterating over items, while loops are good for simply running sets of code\n",
    "#in Reeborg's world, can use while not at_goal(): jump together with if statements for dynamic navigation and more while loops for dynamic jump heights\n",
    "\n",
    "#Reeborg's World: Hurdle 4\n",
    "#def turn_right():\n",
    "#    turn_left()\n",
    "#    turn_left()\n",
    "#    turn_left()\n",
    "\n",
    "#def dynamic_jump_height():\n",
    "#    turn_left()\n",
    "\n",
    "#    while wall_on_right():\n",
    "#        move()\n",
    "\n",
    "#    turn_right()\n",
    "#    move()\n",
    "#    turn_right()\n",
    "#    move()\n",
    "\n",
    "#    while wall_in_front() == False:\n",
    "#        move()\n",
    "\n",
    "#    turn_left()\n",
    "\n",
    "#while not at_goal():\n",
    "#    if front_is_clear():\n",
    "#        move()\n",
    "#    elif wall_in_front():\n",
    "#        dynamic_jump_height()\n",
    "    \n",
    "#Project 6: Reeborg's World: Maze (My Solution)\n",
    "#def turn_right():\n",
    "#    turn_left()\n",
    "#    turn_left()\n",
    "#    turn_left()\n",
    "\n",
    "#def turn_around():\n",
    "#    turn_left()\n",
    "#    turn_left()\n",
    "\n",
    "#while not at_goal():\n",
    "#    turn_right_counter = 0 \n",
    "#    while right_is_clear():\n",
    "#        turn_right_counter += 1 #this is for dealing with the open space scenario\n",
    "#        turn_right()\n",
    "#        move()\n",
    "#        if turn_right_counter == 3: #breaks the loop after right turns; initialised as 0 and reset after the 180\n",
    "#            turn_around()\n",
    "#            turn_round_counter = 0\n",
    "#    while wall_on_right() and front_is_clear():\n",
    "#        move()\n",
    "#    while wall_on_right() and wall_in_front():\n",
    "#        turn_left()\n",
    "\n",
    "import matplotlib.pyplot as plt\n",
    "import matplotlib.image as mpimg\n",
    "image_path = image_path = r\"/Users/mujiechen/Library/CloudStorage/Dropbox/100 Days of Code/Static/Reeborg's World Maze.png\"\n",
    "image = mpimg.imread(image_path)\n",
    "plt.imshow(image)\n",
    "plt.show()\n",
    "\n",
    "#the right edge of the maze strategy; done in absence of wall_on_left and left_is_clear\n",
    "#can also use a move() while front is clear to prevent open space scenario\n"
   ]
  },
  {
   "cell_type": "markdown",
   "id": "a0f247cd-4877-403b-901b-35381d87551d",
   "metadata": {},
   "source": [
    "### <b>Hangman Project</b>\n",
    "Your goal is to build a Hangman game ([demo](https://appbrewery.github.io/python-day7-demo/)) using everything you have learnt about Python programming.<br>\n",
    "The project is split into 5 major steps. In each step, there will be multiple TODOs. Your goal is to go through each todo in order and complete them.<br>"
   ]
  },
  {
   "cell_type": "code",
   "execution_count": 11,
   "id": "42ed7ab9-33a6-43b6-93de-b5eaf28b61f1",
   "metadata": {},
   "outputs": [
    {
     "name": "stdout",
     "output_type": "stream",
     "text": [
      "\n",
      "  _                                             \n",
      " | |                                            \n",
      " | |__   __ _ _ __   __ _ _ __ ___   __ _ _ __  \n",
      " | '_ \\ / _` | '_ \\ / _` | '_ ` _ \\ / _` | '_ \\ \n",
      " | | | | (_| | | | | (_| | | | | | | (_| | | | |\n",
      " |_| |_|\\__,_|_| |_|\\__, |_| |_| |_|\\__,_|_| |_|\n",
      "                     __/ |                      \n",
      "                    |___/                       \n",
      "\n",
      "Word to guess: _____\n",
      "****************************6/6 LIVES LEFT****************************\n",
      "Word to guess: _____\n"
     ]
    },
    {
     "name": "stdin",
     "output_type": "stream",
     "text": [
      "Guess a letter:  a\n"
     ]
    },
    {
     "name": "stdout",
     "output_type": "stream",
     "text": [
      "****************************6/6 LIVES LEFT****************************\n",
      "Word to guess: _a___\n"
     ]
    },
    {
     "name": "stdin",
     "output_type": "stream",
     "text": [
      "Guess a letter:  e\n"
     ]
    },
    {
     "name": "stdout",
     "output_type": "stream",
     "text": [
      "****************************6/6 LIVES LEFT****************************\n",
      "Word to guess: _a_e_\n"
     ]
    },
    {
     "name": "stdin",
     "output_type": "stream",
     "text": [
      "Guess a letter:  i\n"
     ]
    },
    {
     "name": "stdout",
     "output_type": "stream",
     "text": [
      "You guessed i, that's not in the word. You lose a life!\n",
      "\n",
      "  +---+\n",
      "  |   |\n",
      "  O   |\n",
      "      |\n",
      "      |\n",
      "      |\n",
      "=========\n",
      "    \n",
      "****************************5/6 LIVES LEFT****************************\n",
      "Word to guess: _a_e_\n"
     ]
    },
    {
     "name": "stdin",
     "output_type": "stream",
     "text": [
      "Guess a letter:  o\n"
     ]
    },
    {
     "name": "stdout",
     "output_type": "stream",
     "text": [
      "You guessed o, that's not in the word. You lose a life!\n",
      "\n",
      "  +---+\n",
      "  |   |\n",
      "  O   |\n",
      "  |   |\n",
      "      |\n",
      "      |\n",
      "=========\n",
      "    \n",
      "****************************4/6 LIVES LEFT****************************\n",
      "Word to guess: _a_e_\n"
     ]
    },
    {
     "name": "stdin",
     "output_type": "stream",
     "text": [
      "Guess a letter:  u\n"
     ]
    },
    {
     "name": "stdout",
     "output_type": "stream",
     "text": [
      "You guessed u, that's not in the word. You lose a life!\n",
      "\n",
      "  +---+\n",
      "  |   |\n",
      "  O   |\n",
      " /|   |\n",
      "      |\n",
      "      |\n",
      "=========\n",
      "    \n",
      "****************************3/6 LIVES LEFT****************************\n",
      "Word to guess: _a_e_\n"
     ]
    },
    {
     "name": "stdin",
     "output_type": "stream",
     "text": [
      "Guess a letter:  p\n"
     ]
    },
    {
     "name": "stdout",
     "output_type": "stream",
     "text": [
      "You guessed p, that's not in the word. You lose a life!\n",
      "\n",
      "  +---+\n",
      "  |   |\n",
      "  O   |\n",
      " /|\\  |\n",
      "      |\n",
      "      |\n",
      "=========\n",
      "    \n",
      "****************************2/6 LIVES LEFT****************************\n",
      "Word to guess: _a_e_\n"
     ]
    },
    {
     "name": "stdin",
     "output_type": "stream",
     "text": [
      "Guess a letter:  m\n"
     ]
    },
    {
     "name": "stdout",
     "output_type": "stream",
     "text": [
      "****************************2/6 LIVES LEFT****************************\n",
      "Word to guess: _ame_\n"
     ]
    },
    {
     "name": "stdin",
     "output_type": "stream",
     "text": [
      "Guess a letter:  i\n"
     ]
    },
    {
     "name": "stdout",
     "output_type": "stream",
     "text": [
      "You guessed i, that's not in the word. You lose a life!\n",
      "\n",
      "  +---+\n",
      "  |   |\n",
      "  O   |\n",
      " /|\\  |\n",
      " /    |\n",
      "      |\n",
      "=========\n",
      "    \n",
      "****************************1/6 LIVES LEFT****************************\n",
      "Word to guess: _ame_\n"
     ]
    },
    {
     "name": "stdin",
     "output_type": "stream",
     "text": [
      "Guess a letter:  c\n"
     ]
    },
    {
     "name": "stdout",
     "output_type": "stream",
     "text": [
      "****************************1/6 LIVES LEFT****************************\n",
      "Word to guess: came_\n"
     ]
    },
    {
     "name": "stdin",
     "output_type": "stream",
     "text": [
      "Guess a letter:  l\n"
     ]
    },
    {
     "name": "stdout",
     "output_type": "stream",
     "text": [
      "You won!\n"
     ]
    }
   ],
   "source": [
    "import random\n",
    "\n",
    "word_list = [\"aardvark\", \"baboon\", \"camel\"]\n",
    "\n",
    "hangman_pics = [\n",
    "    '''\n",
    "  +---+\n",
    "  |   |\n",
    "      |\n",
    "      |\n",
    "      |\n",
    "      |\n",
    "=========\n",
    "    ''',\n",
    "    '''\n",
    "  +---+\n",
    "  |   |\n",
    "  O   |\n",
    "      |\n",
    "      |\n",
    "      |\n",
    "=========\n",
    "    ''',\n",
    "    '''\n",
    "  +---+\n",
    "  |   |\n",
    "  O   |\n",
    "  |   |\n",
    "      |\n",
    "      |\n",
    "=========\n",
    "    ''',\n",
    "    '''\n",
    "  +---+\n",
    "  |   |\n",
    "  O   |\n",
    " /|   |\n",
    "      |\n",
    "      |\n",
    "=========\n",
    "    ''',\n",
    "    '''\n",
    "  +---+\n",
    "  |   |\n",
    "  O   |\n",
    " /|\\  |\n",
    "      |\n",
    "      |\n",
    "=========\n",
    "    ''',\n",
    "    '''\n",
    "  +---+\n",
    "  |   |\n",
    "  O   |\n",
    " /|\\  |\n",
    " /    |\n",
    "      |\n",
    "=========\n",
    "    ''',\n",
    "    '''\n",
    "  +---+\n",
    "  |   |\n",
    "  O   |\n",
    " /|\\  |\n",
    " / \\  |\n",
    "      |\n",
    "=========\n",
    "    ''']\n",
    "\n",
    "print('''\n",
    "  _                                             \n",
    " | |                                            \n",
    " | |__   __ _ _ __   __ _ _ __ ___   __ _ _ __  \n",
    " | '_ \\ / _` | '_ \\ / _` | '_ ` _ \\ / _` | '_ \\ \n",
    " | | | | (_| | | | | (_| | | | | | | (_| | | | |\n",
    " |_| |_|\\__,_|_| |_|\\__, |_| |_| |_|\\__,_|_| |_|\n",
    "                     __/ |                      \n",
    "                    |___/                       \n",
    "''')\n",
    "\n",
    "word_to_guess = random.choice(word_list)\n",
    "print(f\"Word to guess: {'_' * (len(word_to_guess))}\")\n",
    "word_progress = [\"_\"] * len(word_to_guess)\n",
    "\n",
    "# while word still has \"_\", continue asking for a guess.\n",
    "# replace _ with letter if hit and display next stage hangman, add to counter if missed\n",
    "\n",
    "lives = 6\n",
    "while \"_\" in word_progress:\n",
    "    print(f\"****************************{lives}/6 LIVES LEFT****************************\")\n",
    "    print(\"Word to guess: \" + \"\".join(word_progress))\n",
    "    last_guess = input(\"Guess a letter: \").lower() #could have a prompt for repeated inputs\n",
    "    for index, char in enumerate(word_to_guess):\n",
    "        if char == last_guess:\n",
    "            word_progress[index] = last_guess\n",
    "    if last_guess not in word_to_guess:\n",
    "        lives -= 1\n",
    "        print(f\"You guessed {last_guess}, that's not in the word. You lose a life!\")\n",
    "        print(hangman_pics[6 - lives])\n",
    "        if lives == 0: #6 lives, dead at 0\n",
    "            print(f'*****************It was \"{word_to_guess}\"! YOU LOSE*******************')\n",
    "            break\n",
    "\n",
    "if \"_\" not in word_progress:\n",
    "    print(\"You won!\")\n",
    "\n",
    "#game is over either by losing all lives or getting the word\n"
   ]
  },
  {
   "cell_type": "markdown",
   "id": "755f92a8-3d58-466a-9e38-24a3b6a4a5c9",
   "metadata": {},
   "source": [
    "### <b>function parameters</b>\n",
    "functions, which are a package of many actions, can take input variables when they are called. the variable is known as the parameter, while the value is known as the argument. this allows variations in the actions performed by the function"
   ]
  },
  {
   "cell_type": "code",
   "execution_count": 15,
   "id": "90334ffb-175c-4df4-a7fd-d4cd8c567ce9",
   "metadata": {},
   "outputs": [
    {
     "name": "stdin",
     "output_type": "stream",
     "text": [
      "What is your name? Jim\n"
     ]
    },
    {
     "name": "stdout",
     "output_type": "stream",
     "text": [
      "Hello Jim!\n",
      "How are you?\n"
     ]
    },
    {
     "name": "stdin",
     "output_type": "stream",
     "text": [
      "How old are you? 23\n",
      "Are you a smoker? Y/N Y\n"
     ]
    },
    {
     "name": "stdout",
     "output_type": "stream",
     "text": [
      "You have 2438.80 weeks left.\n"
     ]
    }
   ],
   "source": [
    "def greet_with_name(name): #function with name as input\n",
    "    print(f\"Hello {name}!\")\n",
    "    print(\"How are you?\")\n",
    "\n",
    "greet_with_name(input(\"What is your name?\")) #requires a console\n",
    "\n",
    "def life_in_weeks(age, smoker): #function taking two arguments, both being user inputs\n",
    "    weeks_left = 4680-int(age)*52 #90 years * 52 weeks\n",
    "    if smoker == \"Y\": #if statements in functions fork the actions\n",
    "        weeks_left = weeks_left * 0.7\n",
    "    print(f\"You have {weeks_left:.2f} weeks left.\")\n",
    "\n",
    "life_in_weeks(input(\"How old are you?\"), input(\"Are you a smoker? Y/N\")) #positional argument\n",
    "#Failsafe: smoker = input(\"Are you a smoker\" Y/N\") to bypass positional assignment\n"
   ]
  },
  {
   "cell_type": "markdown",
   "id": "bf341d5c-4d55-4c75-b30e-f55d7a28b4b3",
   "metadata": {},
   "source": [
    "<b> Project 8: Caesar Cipher<b><br>\n",
    "You are going to build an encryption and decryption program using the Caesar cypher. The Caesar cypher shifts the decoded message by a shift number and outputs the encoded message. Conversely, inputting the encoded message and selecting decode will output the decoded message. [Demo](https://appbrewery.github.io/python-day8-demo/)"
   ]
  },
  {
   "cell_type": "code",
   "execution_count": 50,
   "id": "3a083dd7-e513-49f6-b36f-cd530030ff6b",
   "metadata": {},
   "outputs": [
    {
     "name": "stdout",
     "output_type": "stream",
     "text": [
      "           \n",
      " ,adPPYba, ,adPPYYba,  ,adPPYba, ,adPPYba, ,adPPYYba, 8b,dPPYba,  \n",
      "a8\"     \"\" \"\"     `Y8 a8P_____88 I8[    \"\" \"\"     `Y8 88P'   \"Y8  \n",
      "8b         ,adPPPPP88 8PP\"  `\"Y8ba,  ,adPPPPP88 88          \n",
      "\"8a,   ,aa 88,    ,88 \"8b,   ,aa aa    ]8I 88,    ,88 88          \n",
      " `\"Ybbd8\"' `\"8bbdP\"Y8  `\"Ybbd8\"' `\"YbbdP\"' `\"8bbdP\"Y8 88   \n",
      "            88             88                                 \n",
      "           \"\"             88                                 \n",
      "                          88                                 \n",
      " ,adPPYba, 88 8b,dPPYba,  88,dPPYba,   ,adPPYba, 8b,dPPYba,  \n",
      "a8\"     \"\" 88 88P'    \"8a 88P'    \"8a a8P_____88 88P'   \"Y8  \n",
      "8b         88 88       d8 88       88 8PP\" 88          \n",
      "\"8a,   ,aa 88 88b,   ,a8\" 88       88 \"8b,   ,aa 88          \n",
      " `\"Ybbd8\"' 88 88`YbbdP\"'  88       88  `\"Ybbd8\"' 88          \n",
      "              88                                             \n",
      "              88           \n",
      "\n"
     ]
    },
    {
     "name": "stdin",
     "output_type": "stream",
     "text": [
      "Type 'encode' to encrypt, type 'decode' to decrypt:\n",
      " encode\n",
      "Type your message:\n",
      " hello there!\n",
      "Type the shift number:\n",
      " 20\n"
     ]
    },
    {
     "name": "stdout",
     "output_type": "stream",
     "text": [
      "Here's the encoded result: byffi nbyly!\n"
     ]
    },
    {
     "name": "stdin",
     "output_type": "stream",
     "text": [
      "Type 'yes' if you want to go again. Otherwise type 'no'\n",
      " yes\n",
      "Type 'encode' to encrypt, type 'decode' to decrypt:\n",
      " decode\n",
      "Type your message:\n",
      " byffi nbyly!\n",
      "Type the shift number:\n",
      " 46\n"
     ]
    },
    {
     "name": "stdout",
     "output_type": "stream",
     "text": [
      "Here's the decoded result: hello there!\n"
     ]
    },
    {
     "name": "stdin",
     "output_type": "stream",
     "text": [
      "Type 'yes' if you want to go again. Otherwise type 'no'\n",
      " no\n"
     ]
    },
    {
     "name": "stdout",
     "output_type": "stream",
     "text": [
      "Goodbye.\n"
     ]
    }
   ],
   "source": [
    "logo = \"\"\"           \n",
    " ,adPPYba, ,adPPYYba,  ,adPPYba, ,adPPYba, ,adPPYYba, 8b,dPPYba,  \n",
    "a8\"     \"\" \"\"     `Y8 a8P_____88 I8[    \"\" \"\"     `Y8 88P'   \"Y8  \n",
    "8b         ,adPPPPP88 8PP\"\"\"\"\"\"\"  `\"Y8ba,  ,adPPPPP88 88          \n",
    "\"8a,   ,aa 88,    ,88 \"8b,   ,aa aa    ]8I 88,    ,88 88          \n",
    " `\"Ybbd8\"' `\"8bbdP\"Y8  `\"Ybbd8\"' `\"YbbdP\"' `\"8bbdP\"Y8 88   \n",
    "            88             88                                 \n",
    "           \"\"             88                                 \n",
    "                          88                                 \n",
    " ,adPPYba, 88 8b,dPPYba,  88,dPPYba,   ,adPPYba, 8b,dPPYba,  \n",
    "a8\"     \"\" 88 88P'    \"8a 88P'    \"8a a8P_____88 88P'   \"Y8  \n",
    "8b         88 88       d8 88       88 8PP\"\"\"\"\"\"\" 88          \n",
    "\"8a,   ,aa 88 88b,   ,a8\" 88       88 \"8b,   ,aa 88          \n",
    " `\"Ybbd8\"' 88 88`YbbdP\"'  88       88  `\"Ybbd8\"' 88          \n",
    "              88                                             \n",
    "              88           \n",
    "\"\"\"\n",
    "\n",
    "alphabet = ['a', 'b', 'c', 'd', 'e', 'f', 'g', 'h', 'i', 'j', 'k', 'l', 'm', 'n', 'o', 'p', 'q', 'r', 's', 't', 'u', 'v', 'w', 'x', 'y', 'z']\n",
    "\n",
    "def caesar(originalatext, shift_amount, direction):\n",
    "    output_text = [] #or use \"\", then += char, then print str w/o needing to join list\n",
    "    \n",
    "    if direction == \"decode\":\n",
    "        shift_amount *= -1 #reverses the sign of shift_amount, eliminates if statement\n",
    "        \n",
    "    for char in original_text:\n",
    "        if char in alphabet:\n",
    "            output_text.append(alphabet[(alphabet.index(char) + shift_amount)%len(alphabet)]) #find the index of the character using .index(), shift it, scalable modulo to loop, then use the index of that character to find the alphabet, and append it to encrypted_text \n",
    "        else:\n",
    "            output_text.append(char) #symbols go in unchanged\n",
    "            \n",
    "    print(f\"Here's the {direction}d result: \" + \"\".join(output_text)) #or use return, without printing\n",
    "\n",
    "print(logo)\n",
    "\n",
    "keep_going = True #continue is a reserved word in python\n",
    "\n",
    "while keep_going:\n",
    "    direction = input(\"Type 'encode' to encrypt, type 'decode' to decrypt:\\n\").lower()\n",
    "    original_text = input(\"Type your message:\\n\").lower()\n",
    "    shift_amount = int(input(\"Type the shift number:\\n\"))\n",
    "    \n",
    "    caesar(original_text, shift_amount, direction)\n",
    "\n",
    "    keep_going = input(\"Type 'yes' if you want to go again. Otherwise type 'no'\\n\").lower() == \"yes\" #no need to include if statement on true/false\n",
    "    if keep_going == False:\n",
    "        print(\"Goodbye.\")"
   ]
  },
  {
   "cell_type": "markdown",
   "id": "1faba0d2-68ef-44fc-9a03-1a62f91ee5e8",
   "metadata": {},
   "source": [
    "### <b>dictionaries, nesting</b>\n",
    "dictionaries in python function similarly to dictionaries in real life."
   ]
  },
  {
   "cell_type": "code",
   "execution_count": 13,
   "id": "e146dc23-f36e-4c76-bff1-09b923258b83",
   "metadata": {},
   "outputs": [
    {
     "name": "stdout",
     "output_type": "stream",
     "text": [
      "An error in a program that prevents the program from running as expected\n",
      "Bug\n",
      "A moth in your computer\n",
      "Function\n",
      "A piece of code that you can easily call over and over again\n",
      "Loop\n",
      "The action of doing something over and over again\n",
      "Harry\n",
      "Exceeds Expectations\n",
      "Ron\n",
      "Acceptable\n",
      "Hermione\n",
      "Outstanding\n",
      "Draco\n",
      "Acceptable\n",
      "Neville\n",
      "Fail\n",
      "Lille\n",
      "Stuttgart\n"
     ]
    }
   ],
   "source": [
    "programming_dictionary = { #convention to indent every entry\n",
    "    \"Bug\": \"An error in a program that prevents the program from running as expected\",\n",
    "    \"Function\": \"A piece of code that you can easily call over and over again\", #convention to add a , for future extension\n",
    "} #close brace in line with start of dictionary\n",
    "\n",
    "print(programming_dictionary[\"Bug\"]) #indexing into dictionaries by its key (KeyError if non-existent)\n",
    "\n",
    "programming_dictionary[\"Loop\"] = \"The action of doing something over and over again\" #adding to the dict\n",
    "\n",
    "programming_dictionary[\"Bug\"] = \"A moth in your computer\" #overwrites value paired with existing key\n",
    "\n",
    "for key in programming_dictionary:\n",
    "    print(key)\n",
    "    print(programming_dictionary[key]) #using the retrieval code to get the value\n",
    "\n",
    "programming_dictionary = {} #clear out the dict, for reinitiating\n",
    "\n",
    "student_scores = {\n",
    "    'Harry': 88,\n",
    "    'Ron': 78,\n",
    "    'Hermione': 95,\n",
    "    'Draco': 75,\n",
    "    'Neville': 60\n",
    "}\n",
    "\n",
    "student_grades = {}\n",
    "\n",
    "for key in student_scores: #conversion into a different system\n",
    "    if student_scores[key] <= 70:\n",
    "        student_grades[key] = \"Fail\"\n",
    "    elif 71 <= student_scores[key] <= 80:\n",
    "        student_grades[key] = \"Acceptable\"\n",
    "    elif 81 <= student_scores[key] <= 90:\n",
    "        student_grades[key] = \"Exceeds Expectations\"\n",
    "    elif student_scores[key] >= 91:\n",
    "        student_grades[key] = \"Outstanding\"\n",
    "\n",
    "for key in student_grades:\n",
    "    print(key)\n",
    "    print(student_grades[key])\n",
    "\n",
    "travel_log = {\n",
    "    \"France\": [\"Lille\", \"Paris\", \"Dijon\"], #list nested within a dictionary\n",
    "    \"Germany\": { #dictionary nested in dictionary\n",
    "        \"num_times_visited\": 2,\n",
    "        \"cities_visited\": [\"Stuttgart\", \"Hamburg\", \"Berlin\"], #list nested within dict within dict\n",
    "    }\n",
    "}\n",
    "\n",
    "print(travel_log[\"France\"][0]) #indexing into the list in a dict value; another [] for nested lists\n",
    "\n",
    "print(travel_log[\"Germany\"][\"cities_visited\"][0])\n"
   ]
  },
  {
   "cell_type": "markdown",
   "id": "0fe270eb-98ed-4d2e-ae65-67b3407a3717",
   "metadata": {},
   "source": [
    "### <b>functions with ouputs</b>"
   ]
  },
  {
   "cell_type": "markdown",
   "id": "13c72f7b-d47c-4d7e-a912-a457b1da9016",
   "metadata": {},
   "source": [
    "<b>Project 9: The Secret Auction<b><br>\n",
    "The goal is to build a blind auction program. [demo](https://appbrewery.github.io/python-day9-demo/) To borrow steven tadelis' term, calling it first price sealed bid auction would be more accurate (whereby the weakly dominant strategy would be to bid at valuation)"
   ]
  },
  {
   "cell_type": "code",
   "execution_count": 34,
   "id": "8261ddef-73a9-461e-804f-eb161bafa7a9",
   "metadata": {},
   "outputs": [
    {
     "name": "stdout",
     "output_type": "stream",
     "text": [
      "\n",
      "                         ___________\n",
      "                         \\         /\n",
      "                          )_______(\n",
      "                          |\"\"\"\"\"\"\"|_.-._,.---------.,_.-._\n",
      "                          |       | | |               | | ''-.\n",
      "                          |       |_| |_             _| |_..-'\n",
      "                          |_______| '-' `'---------'` '-'\n",
      "                          )\"\"\"\"\"\"\"(\n",
      "                         /_________\\\\\n",
      "                       .-------------.\n",
      "                      /_______________\\\\\n",
      "\n",
      "Welcome to the secret auction program.\n"
     ]
    },
    {
     "name": "stdin",
     "output_type": "stream",
     "text": [
      "What is your name?:  penny\n",
      "What is your bet?: $ 1\n",
      "Are there any other bidders? Type 'yes' or 'no' yes\n"
     ]
    },
    {
     "name": "stdout",
     "output_type": "stream",
     "text": [
      "\n",
      "\n",
      "\n",
      "\n",
      "\n",
      "\n",
      "\n",
      "\n",
      "\n",
      "\n",
      "\n"
     ]
    },
    {
     "name": "stdin",
     "output_type": "stream",
     "text": [
      "What is your name?:  nickel\n",
      "What is your bet?: $ 5\n",
      "Are there any other bidders? Type 'yes' or 'no' yes\n"
     ]
    },
    {
     "name": "stdout",
     "output_type": "stream",
     "text": [
      "\n",
      "\n",
      "\n",
      "\n",
      "\n",
      "\n",
      "\n",
      "\n",
      "\n",
      "\n",
      "\n"
     ]
    },
    {
     "name": "stdin",
     "output_type": "stream",
     "text": [
      "What is your name?:  dime\n",
      "What is your bet?: $ 10\n",
      "Are there any other bidders? Type 'yes' or 'no' no\n"
     ]
    },
    {
     "name": "stdout",
     "output_type": "stream",
     "text": [
      "The winner is dime with a bid of $10\n"
     ]
    }
   ],
   "source": [
    "logo = r'''\n",
    "                         ___________\n",
    "                         \\         /\n",
    "                          )_______(\n",
    "                          |\"\"\"\"\"\"\"|_.-._,.---------.,_.-._\n",
    "                          |       | | |               | | ''-.\n",
    "                          |       |_| |_             _| |_..-'\n",
    "                          |_______| '-' `'---------'` '-'\n",
    "                          )\"\"\"\"\"\"\"(\n",
    "                         /_________\\\\\n",
    "                       .-------------.\n",
    "                      /_______________\\\\\n",
    "''' #its a gavel not a hammer\n",
    "\n",
    "print(logo + \"\\n\" + \"Welcome to the secret auction program.\")\n",
    "\n",
    "bids = {} #initialise empty dictionary\n",
    "\n",
    "room_occupied = True\n",
    "\n",
    "while room_occupied == True:\n",
    "    name = input(\"What is your name?: \")\n",
    "    bet = int(input(\"What is your bet?: $\"))\n",
    "    bids[name] = bet #store key:value pair in dictionary\n",
    "\n",
    "    room_occupied = input(\"Are there any other bidders? Type 'yes' or 'no'\").lower() == 'yes'\n",
    "\n",
    "    if room_occupied == False:\n",
    "        break\n",
    "    \n",
    "    print(\"\\n\" * 10) #simulate clearing the screen in between players\n",
    "\n",
    "if room_occupied == False:\n",
    "    #can also def a new find_winner function with the code below; defs go on top of all execution\n",
    "    \n",
    "    winner = \"\"\n",
    "    winning_bid = 0\n",
    "\n",
    "    for key in bids:\n",
    "        if bids[key] > winning_bid:\n",
    "            winner = key #or use max(bids, key=bids.get); get the key of the max value in dict\n",
    "            winning_bid = bids[key]\n",
    "\n",
    "    print(f\"The winner is {winner} with a bid of ${winning_bid}\")\n"
   ]
  },
  {
   "cell_type": "markdown",
   "id": "674b69b8-e89d-4b76-9883-0105d1f782b4",
   "metadata": {},
   "source": [
    "### <b>the beginner blackjack capstone project</b>"
   ]
  },
  {
   "cell_type": "markdown",
   "id": "2a4844c2-4139-4af7-b7f8-98671be6af80",
   "metadata": {},
   "source": [
    "### <b>scope & number guessing game</b>"
   ]
  },
  {
   "cell_type": "markdown",
   "id": "7eaf12d1-d5ee-4d17-a969-830a64d45e80",
   "metadata": {},
   "source": [
    "### <b>how to find and fix errors in your code</b>"
   ]
  },
  {
   "cell_type": "markdown",
   "id": "eaec0715-b3bf-48a7-bd5f-0bf5eb5a3191",
   "metadata": {},
   "source": [
    "### <b>higher lower game project</b>"
   ]
  },
  {
   "cell_type": "raw",
   "id": "08d6f1b0-38ef-4822-8ff3-b2cca25b8a7a",
   "metadata": {},
   "source": [
    "intermediate starts here. maybe new notebook?"
   ]
  },
  {
   "cell_type": "raw",
   "id": "0beb5c0d-2373-4cb4-8d69-d4fd574845e4",
   "metadata": {},
   "source": [
    "web foundation starts here"
   ]
  },
  {
   "cell_type": "raw",
   "id": "033bcaa5-f7bf-4439-852c-8cdeeab56fb8",
   "metadata": {},
   "source": [
    "intermediate+ starts here"
   ]
  },
  {
   "cell_type": "raw",
   "id": "132423b2-87b9-4e59-a808-14cc27319772",
   "metadata": {},
   "source": [
    "advanced starts here"
   ]
  },
  {
   "cell_type": "raw",
   "id": "40af7bd2-ad9a-4a5f-ac32-80c8fecf883c",
   "metadata": {},
   "source": [
    "professional starts here"
   ]
  },
  {
   "cell_type": "code",
   "execution_count": null,
   "id": "691a56e9-f833-4f12-8f4a-f58c55d0074f",
   "metadata": {},
   "outputs": [],
   "source": []
  },
  {
   "cell_type": "code",
   "execution_count": null,
   "id": "e1845979-5e28-404f-b6e9-55c478982639",
   "metadata": {},
   "outputs": [],
   "source": []
  },
  {
   "cell_type": "code",
   "execution_count": null,
   "id": "2094c264-b3d4-42a4-b186-e36cadef70ac",
   "metadata": {},
   "outputs": [],
   "source": []
  }
 ],
 "metadata": {
  "kernelspec": {
   "display_name": "Python 3 (ipykernel)",
   "language": "python",
   "name": "python3"
  },
  "language_info": {
   "codemirror_mode": {
    "name": "ipython",
    "version": 3
   },
   "file_extension": ".py",
   "mimetype": "text/x-python",
   "name": "python",
   "nbconvert_exporter": "python",
   "pygments_lexer": "ipython3",
   "version": "3.10.6"
  }
 },
 "nbformat": 4,
 "nbformat_minor": 5
}
